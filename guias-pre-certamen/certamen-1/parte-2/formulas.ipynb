{
 "cells": [
  {
   "cell_type": "markdown",
   "metadata": {},
   "source": [
    "**Calculo de \"m\"**\n",
    "\n",
    "\n",
    "$m = \\frac{|{f''(r)}|}{|2 f'(r)|}$"
   ]
  },
  {
   "cell_type": "markdown",
   "metadata": {},
   "source": [
    "| x_i | e_i | \n",
    "|-----|-----|\n",
    "| x_0 | e_0 |   \n",
    "| x_1 | e_1 |   \n",
    "| x_2 | e_2 | ,\n",
    "\n",
    "\n",
    " Donde cada error se viene a calcular como $e_i = |x_i - x_{i-1}| \\in [1,n]$  "
   ]
  }
 ],
 "metadata": {
  "language_info": {
   "name": "python"
  }
 },
 "nbformat": 4,
 "nbformat_minor": 2
}
