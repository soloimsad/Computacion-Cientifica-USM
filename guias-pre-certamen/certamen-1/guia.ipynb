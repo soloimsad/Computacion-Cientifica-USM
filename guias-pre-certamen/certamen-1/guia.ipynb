{
 "cells": [
  {
   "cell_type": "code",
   "execution_count": 14,
   "metadata": {},
   "outputs": [
    {
     "data": {
      "text/plain": [
       "-1e-14"
      ]
     },
     "execution_count": 14,
     "metadata": {},
     "output_type": "execute_result"
    }
   ],
   "source": [
    "import numpy as np\n",
    "x1 = lambda a,b,c : (-b + np.sqrt(np.power(b,2)-4*a*c))/2*a\n",
    "x2 = lambda a,b,c : (-b - np.sqrt(np.power(b,2)-4*a*c))/2*a\n",
    "a = 10.\n",
    "b= 10.e15\n",
    "c = 100.\n",
    "x1_fixed = lambda a, b, c: (2 * c) / ( (-b - np.sqrt(np.power(b, 2) - 4. * a * c)))\n",
    "x1_fixed(a, b, c)\n"
   ]
  },
  {
   "cell_type": "code",
   "execution_count": 15,
   "metadata": {},
   "outputs": [
    {
     "data": {
      "text/plain": [
       "(0.0, -2.48e+20)"
      ]
     },
     "execution_count": 15,
     "metadata": {},
     "output_type": "execute_result"
    }
   ],
   "source": [
    "a=124\n",
    "b=2e18\n",
    "c=-1.3\n",
    "x1(a,b,c),x2(a,b,c)"
   ]
  },
  {
   "cell_type": "code",
   "execution_count": 16,
   "metadata": {},
   "outputs": [
    {
     "data": {
      "text/plain": [
       "(6.5e-19, -2.48e+20)"
      ]
     },
     "execution_count": 16,
     "metadata": {},
     "output_type": "execute_result"
    }
   ],
   "source": [
    "x1_fixed(a,b,c),x2(a,b,c)"
   ]
  },
  {
   "cell_type": "code",
   "execution_count": 22,
   "metadata": {},
   "outputs": [
    {
     "name": "stderr",
     "output_type": "stream",
     "text": [
      "C:\\Users\\jagom\\AppData\\Local\\Temp\\ipykernel_6708\\3074128905.py:1: RuntimeWarning: divide by zero encountered in log\n",
      "  f1 = lambda x: np.log(x - np.sqrt(np.power(x, 2) - 1))\n",
      "c:\\Users\\jagom\\AppData\\Local\\Programs\\Python\\Python311\\Lib\\site-packages\\numpy\\lib\\function_base.py:2455: RuntimeWarning: divide by zero encountered in <lambda> (vectorized)\n",
      "  outputs = ufunc(*inputs)\n"
     ]
    },
    {
     "data": {
      "text/plain": [
       "array([  0.        , -12.00000014,         -inf,         -inf,\n",
       "               -inf])"
      ]
     },
     "execution_count": 22,
     "metadata": {},
     "output_type": "execute_result"
    }
   ],
   "source": [
    "f1 = lambda x: np.log(x - np.sqrt(np.power(x, 2) - 1))\n",
    "\n",
    "x1 = 1.00000000000000000000000000000\n",
    "x2 = 81377.3957125740665806667073286\n",
    "x3 = 1.32445610649217361470884567491e10\n",
    "x4 = 2.15561577355759761355671114643e15\n",
    "x5 = 3.50836795604881586932735799943e20\n",
    "equis = np.array([x1, x2, x3, x4, x5])\n",
    "\n",
    "f1_vec = np.vectorize(f1)\n",
    "fs = f1_vec(equis)\n",
    "fs"
   ]
  },
  {
   "cell_type": "code",
   "execution_count": 23,
   "metadata": {},
   "outputs": [
    {
     "data": {
      "text/plain": [
       "array([  0.        , -12.00000014, -24.        , -36.        ,\n",
       "       -48.        ])"
      ]
     },
     "execution_count": 23,
     "metadata": {},
     "output_type": "execute_result"
    }
   ],
   "source": [
    "def f1_fixed(x):\n",
    "    if x > 1e5:\n",
    "        return -np.log(2 * x)\n",
    "    else:\n",
    "        return np.log(x - np.sqrt(x**2 - 1))\n",
    "f1_fixed_vec = np.vectorize(f1_fixed)\n",
    "f1_fixed_vec(equis)"
   ]
  },
  {
   "cell_type": "code",
   "execution_count": 24,
   "metadata": {},
   "outputs": [
    {
     "data": {
      "text/plain": [
       "array(-399.99999814)"
      ]
     },
     "execution_count": 24,
     "metadata": {},
     "output_type": "execute_result"
    }
   ],
   "source": [
    "f1_fixed_vec(2.61073e173)"
   ]
  }
 ],
 "metadata": {
  "kernelspec": {
   "display_name": "Python 3",
   "language": "python",
   "name": "python3"
  },
  "language_info": {
   "codemirror_mode": {
    "name": "ipython",
    "version": 3
   },
   "file_extension": ".py",
   "mimetype": "text/x-python",
   "name": "python",
   "nbconvert_exporter": "python",
   "pygments_lexer": "ipython3",
   "version": "3.11.9"
  }
 },
 "nbformat": 4,
 "nbformat_minor": 2
}
