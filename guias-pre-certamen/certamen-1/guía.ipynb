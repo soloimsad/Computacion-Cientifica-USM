{
 "cells": [
  {
   "cell_type": "code",
   "execution_count": 1,
   "metadata": {},
   "outputs": [
    {
     "data": {
      "text/plain": [
       "np.float64(-1e-14)"
      ]
     },
     "execution_count": 1,
     "metadata": {},
     "output_type": "execute_result"
    }
   ],
   "source": [
    "import numpy as np\n",
    "x1 = lambda a,b,c : (-b + np.sqrt(np.power(b,2)-4*a*c))/2*a\n",
    "x2 = lambda a,b,c : (-b - np.sqrt(np.power(b,2)-4*a*c))/2*a\n",
    "a = 10.\n",
    "b= 10.e15\n",
    "c = 100.\n",
    "x1_fixed = lambda a, b, c: (2 * c) / ( (-b - np.sqrt(np.power(b, 2) - 4. * a * c)))\n",
    "x1_fixed(a, b, c)\n"
   ]
  },
  {
   "cell_type": "code",
   "execution_count": 2,
   "metadata": {},
   "outputs": [
    {
     "data": {
      "text/plain": [
       "(np.float64(0.0), np.float64(-2.48e+20))"
      ]
     },
     "execution_count": 2,
     "metadata": {},
     "output_type": "execute_result"
    }
   ],
   "source": [
    "a=124\n",
    "b=2e18\n",
    "c=-1.3\n",
    "x1(a,b,c),x2(a,b,c)"
   ]
  },
  {
   "cell_type": "code",
   "execution_count": 3,
   "metadata": {},
   "outputs": [
    {
     "data": {
      "text/plain": [
       "(np.float64(6.5e-19), np.float64(-2.48e+20))"
      ]
     },
     "execution_count": 3,
     "metadata": {},
     "output_type": "execute_result"
    }
   ],
   "source": [
    "x1_fixed(a,b,c),x2(a,b,c)"
   ]
  },
  {
   "cell_type": "code",
   "execution_count": 4,
   "metadata": {},
   "outputs": [
    {
     "name": "stderr",
     "output_type": "stream",
     "text": [
      "C:\\Users\\javie\\AppData\\Local\\Temp\\ipykernel_7272\\2930033062.py:1: RuntimeWarning: divide by zero encountered in log\n",
      "  f1 = lambda x: np.log(x - np.sqrt(np.power(x, 2.) - 1.))\n",
      "c:\\Users\\javie\\AppData\\Local\\Programs\\Python\\Python311\\Lib\\site-packages\\numpy\\lib\\_function_base_impl.py:2480: RuntimeWarning: divide by zero encountered in <lambda> (vectorized)\n",
      "  outputs = ufunc(*inputs)\n"
     ]
    },
    {
     "data": {
      "text/plain": [
       "array([  0.        , -12.00000014,         -inf,         -inf,\n",
       "               -inf])"
      ]
     },
     "execution_count": 4,
     "metadata": {},
     "output_type": "execute_result"
    }
   ],
   "source": [
    "f1 = lambda x: np.log(x - np.sqrt(np.power(x, 2.) - 1.))\n",
    "x1 = 1.00000000000000000000000000000\n",
    "x2 = 81377.3957125740665806667073286\n",
    "x3 = 1.32445610649217361470884567491e10\n",
    "x4 = 2.15561577355759761355671114643e15\n",
    "x5 = 3.50836795604881586932735799943e20\n",
    "equis = np.array([x1, x2, x3, x4, x5])\n",
    "#ya que estamos en double precision entonces no alcanzan a sumar los bits que corresponden para que sea el resultado esperado\n",
    "f1_vec = np.vectorize(f1)\n",
    "fs = f1_vec(equis)\n",
    "fs"
   ]
  },
  {
   "cell_type": "code",
   "execution_count": 20,
   "metadata": {},
   "outputs": [],
   "source": [
    "def f1_fixed(x):\n",
    "    if x > 10e8:\n",
    "        fx = -np.log(2 * x)\n",
    "        return -np.log(2 * x)\n",
    "        \n",
    "    else:\n",
    "        fx = np.log(x - np.sqrt(x**2 - 1))\n",
    "        return fx\n",
    "    \n",
    "f4 = lambda x: -(np.log(x + x*np.sqrt((1.-1./np.power(x,2.)))))    \n",
    "f1_fixed_vec = np.vectorize(f1_fixed)\n",
    "    \n"
   ]
  },
  {
   "cell_type": "code",
   "execution_count": null,
   "metadata": {},
   "outputs": [],
   "source": [
    "for i in range(1,401):\n",
    "    x = np.power(10.,i)\n",
    "    print(x,f4(x))"
   ]
  },
  {
   "cell_type": "code",
   "execution_count": 7,
   "metadata": {},
   "outputs": [
    {
     "data": {
      "text/plain": [
       "array(-399.99999814)"
      ]
     },
     "execution_count": 7,
     "metadata": {},
     "output_type": "execute_result"
    }
   ],
   "source": [
    "f1_fixed_vec(2.61073e173)"
   ]
  },
  {
   "cell_type": "markdown",
   "metadata": {},
   "source": []
  }
 ],
 "metadata": {
  "kernelspec": {
   "display_name": "Python 3",
   "language": "python",
   "name": "python3"
  },
  "language_info": {
   "codemirror_mode": {
    "name": "ipython",
    "version": 3
   },
   "file_extension": ".py",
   "mimetype": "text/x-python",
   "name": "python",
   "nbconvert_exporter": "python",
   "pygments_lexer": "ipython3",
   "version": "3.11.9"
  }
 },
 "nbformat": 4,
 "nbformat_minor": 2
}
