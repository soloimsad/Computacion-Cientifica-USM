{
 "cells": [
  {
   "cell_type": "markdown",
   "metadata": {},
   "source": [
    "**Formulas importantes:**\n",
    "\n",
    "**-Primer entero no representable:** ${2^m +1}$\n",
    "\n",
    "**-${\\epsilon_m}$ (epsilon machine):** ${2^{-{(m-1)}}}$\n",
    "\n",
    "**-Menor numero representable:** $(menorNormalizado=2^{{exponenteMin}})$\n",
    "\n",
    "$exponenteMin= 1 - bias$\n",
    "\n",
    "$bias = 2^{exponenteBits-1}-1$\n"
   ]
  }
 ],
 "metadata": {
  "language_info": {
   "name": "python"
  }
 },
 "nbformat": 4,
 "nbformat_minor": 2
}
