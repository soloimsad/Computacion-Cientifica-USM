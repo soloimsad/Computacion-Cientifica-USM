{
 "cells": [
  {
   "cell_type": "code",
   "execution_count": 43,
   "metadata": {},
   "outputs": [],
   "source": [
    "import numpy as np\n",
    "\n",
    "def RK4(t0, T, N, y0, F):\n",
    "    t_vals = np.linspace(t0, T, N + 1)  \n",
    "    dt = (T - t0) / N \n",
    "    y_vals = np.zeros((N + 1, len(y0)))  \n",
    "    y_vals[0] = y0  \n",
    "    \n",
    "    for i in range(N):\n",
    "        t = t_vals[i]\n",
    "        y = y_vals[i]\n",
    "        k1 = dt * np.array(F(t, y))\n",
    "        k2 = dt * np.array(F(t + dt / 2, y + k1 / 2))\n",
    "        k3 = dt * np.array(F(t + dt / 2, y + k2 / 2))\n",
    "        k4 = dt * np.array(F(t + dt, y + k3))\n",
    "        y_vals[i + 1] = y + (k1 + 2 * k2 + 2 * k3 + k4) / 6\n",
    "    \n",
    "    return t_vals, y_vals\n",
    "\n",
    "def Sistema(x, w):\n",
    "    w1, w2 = w\n",
    "    dw1_dx = w2\n",
    "    dw2_dx = -(x * w2 + (x**2 - 1) * w1) / (x**2 + 4 * np.sin(x))\n",
    "    return [dw1_dx, dw2_dx]\n",
    "\n",
    "def J1_Calcular(x, n_points=1000):\n",
    "    tau = np.linspace(0, np.pi, n_points)  \n",
    "    integrand = np.cos(tau - x * np.sin(tau))\n",
    "    integral = np.trapezoid(integrand, tau)  \n",
    "    return integral / np.pi\n",
    "\n",
    "\n",
    "def compareBessel(M, J1_1, J1_2pi):\n",
    "    x_vals = np.linspace(1, 2 * np.pi, M + 1)  \n",
    "    w0 = np.array([J1_1, J1_2pi]) \n",
    "    _, w_vals = RK4(1, 2 * np.pi, M, w0, Sistema)\n",
    "    w_x_vals = w_vals[:, 0]\n",
    "    tau = np.linspace(0, np.pi, 1000)  \n",
    "    integrand = np.cos(tau[:, None] - x_vals * np.sin(tau[:, None]))  \n",
    "    J1_vals = np.trapezoid(integrand, tau, axis=0) / np.pi  \n",
    "    d_vals = J1_vals - w_x_vals\n",
    "\n",
    "    return d_vals"
   ]
  },
  {
   "cell_type": "code",
   "execution_count": 44,
   "metadata": {},
   "outputs": [
    {
     "name": "stdout",
     "output_type": "stream",
     "text": [
      "Vector de diferencias d_j:\n",
      "[-4.99600361e-16  1.28869714e-01  2.31144910e-01  3.06563020e-01\n",
      "  3.55511445e-01  3.79133542e-01  3.79238498e-01  3.58121989e-01\n",
      "  3.18397113e-01  2.62923142e-01  1.94871222e-01  1.17880584e-01\n",
      "  3.61808941e-02 -4.54515411e-02 -1.21958540e-01 -1.88433482e-01\n",
      " -2.40606378e-01 -2.75265147e-01 -2.90540215e-01 -2.86027632e-01\n",
      " -2.62760088e-01]\n"
     ]
    }
   ],
   "source": [
    "M = 20\n",
    "J1_1 = 0.44005058574493355  \n",
    "J1_2pi = -0.2123823500736622  \n",
    "d = compareBessel(M, J1_1, J1_2pi)\n",
    "\n",
    "print(\"Vector de diferencias d_j:\")\n",
    "print(d)\n"
   ]
  }
 ],
 "metadata": {
  "kernelspec": {
   "display_name": "Python 3",
   "language": "python",
   "name": "python3"
  },
  "language_info": {
   "codemirror_mode": {
    "name": "ipython",
    "version": 3
   },
   "file_extension": ".py",
   "mimetype": "text/x-python",
   "name": "python",
   "nbconvert_exporter": "python",
   "pygments_lexer": "ipython3",
   "version": "3.11.9"
  }
 },
 "nbformat": 4,
 "nbformat_minor": 2
}
