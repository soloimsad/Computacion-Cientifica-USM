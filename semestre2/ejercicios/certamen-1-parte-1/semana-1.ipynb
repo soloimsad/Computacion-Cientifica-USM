{
 "cells": [
  {
   "cell_type": "code",
   "execution_count": 2,
   "metadata": {},
   "outputs": [
    {
     "data": {
      "text/plain": [
       "array([215.,  15.])"
      ]
     },
     "execution_count": 2,
     "metadata": {},
     "output_type": "execute_result"
    }
   ],
   "source": [
    "import numpy as np\n",
    "\n",
    "#x para arbol\n",
    "#y para búho\n",
    "A =np.array([[1,1],[1,-1]])\n",
    "b=np.array([230,200])\n",
    "x=np.linalg.solve(A,b)\n",
    "x"
   ]
  },
  {
   "cell_type": "code",
   "execution_count": 41,
   "metadata": {},
   "outputs": [
    {
     "data": {
      "text/plain": [
       "(np.float64(1e+16), np.float64(-0.0))"
      ]
     },
     "execution_count": 41,
     "metadata": {},
     "output_type": "execute_result"
    }
   ],
   "source": [
    "def altura_buho(A,e):\n",
    "    b= np.array([e+1,e-1])\n",
    "    x = np.linalg.solve(A,b)\n",
    "    return x\n",
    "h = altura_buho(A,1e+16)\n",
    "h[0],h[1]"
   ]
  },
  {
   "cell_type": "code",
   "execution_count": 13,
   "metadata": {},
   "outputs": [
    {
     "data": {
      "text/plain": [
       "0.0"
      ]
     },
     "execution_count": 13,
     "metadata": {},
     "output_type": "execute_result"
    }
   ],
   "source": [
    "def suma (x,y,z):\n",
    "    return x+y+z\n"
   ]
  },
  {
   "cell_type": "code",
   "execution_count": 29,
   "metadata": {},
   "outputs": [
    {
     "data": {
      "text/plain": [
       "(np.float64(0.5), np.float64(0.5))"
      ]
     },
     "execution_count": 29,
     "metadata": {},
     "output_type": "execute_result"
    }
   ],
   "source": [
    "f1 = lambda x: (np.sin(x)**2.)/(np.power(np.sin(x),2.)*(1.+np.cos(x)))\n",
    "f2 = lambda x: (1./(1.+np.cos(x)))\n",
    "x = 10e-23\n",
    "f1(x),f2(x)"
   ]
  }
 ],
 "metadata": {
  "kernelspec": {
   "display_name": "Python 3",
   "language": "python",
   "name": "python3"
  },
  "language_info": {
   "codemirror_mode": {
    "name": "ipython",
    "version": 3
   },
   "file_extension": ".py",
   "mimetype": "text/x-python",
   "name": "python",
   "nbconvert_exporter": "python",
   "pygments_lexer": "ipython3",
   "version": "3.11.9"
  }
 },
 "nbformat": 4,
 "nbformat_minor": 2
}
