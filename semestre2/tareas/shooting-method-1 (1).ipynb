{
 "cells": [
  {
   "cell_type": "code",
   "execution_count": 2,
   "id": "fdcb308f-d7a1-4f4f-a525-0293f03b2c62",
   "metadata": {},
   "outputs": [],
   "source": [
    "import numpy as np\n",
    "import matplotlib.pyplot as plt"
   ]
  },
  {
   "cell_type": "code",
   "execution_count": 3,
   "id": "18e4277b-3be8-4c4b-a085-589c1f59c726",
   "metadata": {},
   "outputs": [],
   "source": [
    "def bisect(f, a, b, tol=1e-9, maxNumberIterations=100):\n",
    "    fa = f(a)\n",
    "    fb = f(b)\n",
    "    i = 0\n",
    "    if np.sign(f(a)*f(b)) >= 0:\n",
    "        print('f(a)f(b)<0 not satisfied!')\n",
    "        return None\n",
    "    # Main loop: it will iterate until it satisfies one of the two criterias:\n",
    "    # The tolerance 'tol' is achived or the max number of iterations is reached.\n",
    "    while ((b-a)/2 > tol) and i<=maxNumberIterations:\n",
    "        # Obtaining the midpoint of the interval. Quick question: What could happen if a different point is used?\n",
    "        c = (a+b)/2.\n",
    "        # Evaluating the mid point\n",
    "        fc = f(c)\n",
    "        # Did we find the root?\n",
    "        if fc == 0:\n",
    "            print('f(c)==0')\n",
    "            break\n",
    "        elif np.sign(fa*fc) < 0:\n",
    "            # This first case consider that the new inetrval is defined by [a,c]\n",
    "            b = c\n",
    "            fb = fc\n",
    "        else:\n",
    "            # This second case consider that the new interval is defined by [c,b]\n",
    "            a = c\n",
    "            fa = fc\n",
    "        # Increasing the iteration counter\n",
    "        i += 1\n",
    "    # Computing the best approximation obtaind for the root, which is the midpoint of the final interval.\n",
    "    xc = (a+b)/2.\n",
    "    return xc"
   ]
  },
  {
   "cell_type": "code",
   "execution_count": 4,
   "id": "a6c01a88-e71a-4211-8f5b-70ead4a1155c",
   "metadata": {},
   "outputs": [],
   "source": [
    "# Forward Euler Method\n",
    "def eulerMethod_one_step(yi,ti,f,h):\n",
    "    return yi + h*f(ti,yi)\n",
    "\n",
    "def eulerMethod(t0,T,N,y0,f):\n",
    "    t = np.linspace(t0,T,N + 1)\n",
    "    h = (T - t0)/N\n",
    "    if isinstance(y0,(int,float)):\n",
    "        y = np.zeros(N + 1)\n",
    "    else:\n",
    "        y = np.zeros((N + 1,len(y0)))\n",
    "    y[0] = y0\n",
    "    for i in np.arange(N):\n",
    "        y[i+1] = eulerMethod_one_step(y[i],t[i],f,h)\n",
    "    return t, y\n",
    "\n",
    "# Runge-Kutta of Second order\n",
    "def RK2_one_step(yi,ti,f,h):\n",
    "    k1 = f(ti,yi)\n",
    "    return yi + h*f(ti + h/2.0,yi + h/2.0*k1)\n",
    "\n",
    "def RK2(t0,T,N,y0,f):\n",
    "    t = np.linspace(t0,T,N + 1)\n",
    "    h = (T-t0)/N\n",
    "    if isinstance(y0,(int,float)):\n",
    "        y = np.zeros(N + 1)\n",
    "    else:\n",
    "        y = np.zeros((N + 1,len(y0)))\n",
    "    y[0] = y0\n",
    "    for i in np.arange(N):\n",
    "        y[i+1] = RK2_one_step(y[i],t[i],f,h)\n",
    "    return t, y"
   ]
  },
  {
   "cell_type": "markdown",
   "id": "809383aa-1221-480d-a2d3-a57b8dbc0eaf",
   "metadata": {},
   "source": [
    "Resolver el siguiente BVP, mediante el método del disparo:\n",
    "\n",
    "$$\n",
    "\\begin{align}\n",
    "y'' &= 4\\,y \\\\\n",
    "y(0) &= 1 \\\\\n",
    "y(1) &= 3\n",
    "\\end{align}\n",
    "$$"
   ]
  },
  {
   "cell_type": "markdown",
   "id": "0218e4f2-ecee-48a7-8b27-4a9788ee7141",
   "metadata": {},
   "source": [
    "Definimos el IVP equivalente:\n",
    "\n",
    "$$\n",
    "\\mathbf{y}(t) =\n",
    "\\begin{bmatrix}\n",
    "y(t) \\\\ y'(t) \n",
    "\\end{bmatrix}\n",
    "=\n",
    "\\begin{bmatrix}\n",
    "y_1(t) \\\\ y_2(t)\n",
    "\\end{bmatrix}\n",
    "\\qquad\n",
    "\\mathbf{y}' =\n",
    "\\begin{bmatrix}\n",
    "y'(t) \\\\ y''(t) \n",
    "\\end{bmatrix}\n",
    "=\n",
    "\\begin{bmatrix}\n",
    "y_2(t) \\\\ 4\\,y_1(t) \n",
    "\\end{bmatrix}\n",
    "= \\mathbf{f}(t,\\mathbf{y})\n",
    "\\qquad\\qquad\n",
    "\\mathbf{y}(0) = \n",
    "\\begin{bmatrix}\n",
    "y(0) \\\\ y'(0) \n",
    "\\end{bmatrix}\n",
    "= \n",
    "\\begin{bmatrix}\n",
    "1 \\\\ s \n",
    "\\end{bmatrix}\n",
    "$$"
   ]
  },
  {
   "cell_type": "markdown",
   "id": "48ee94d7-0aa3-4e11-b2a8-b4e4dc30c3d4",
   "metadata": {},
   "source": [
    "Definimos la función $F(s)$ a la cual buscamos la raíz:\n",
    "\n",
    "$$\n",
    "F(s) = \\mathbf{y}_{N,1} - y(1) = \\mathbf{y}_{N,1} - 3 = 0\n",
    "$$"
   ]
  },
  {
   "cell_type": "code",
   "execution_count": 5,
   "id": "358a1bf1-27ff-43cb-b9da-3a7bae25e025",
   "metadata": {},
   "outputs": [],
   "source": [
    "def f(t,y):\n",
    "    return np.array([y[1],4.*y[0]])\n",
    "\n",
    "def F(s):\n",
    "    t0,T = 0.,1.\n",
    "    N = 500\n",
    "    y0 = np.array([1.,s])\n",
    "    t,y = eulerMethod(t0,T,N,y0,f)\n",
    "    return y[N,0] - 3."
   ]
  },
  {
   "cell_type": "code",
   "execution_count": 6,
   "id": "defedd22-038e-40f5-8181-39732fe1db90",
   "metadata": {},
   "outputs": [
    {
     "name": "stdout",
     "output_type": "stream",
     "text": [
      "F(-1.0) = -1.0589955201247758\n",
      "F(0.0) = 0.7472153785398099\n"
     ]
    }
   ],
   "source": [
    "#Para la búsqueda de raíz debemos tener dos valores s0 y s1 tal que F(s0)*F(s1) < 0\n",
    "s0,s1 = -1.,0.\n",
    "print(f\"F({s0}) = {F(s0)}\")\n",
    "print(f\"F({s1}) = {F(s1)}\")\n",
    "\n",
    "#Vemos en el gráfico que al resolver con estos valores el IVP quedan por sobre y bajo el valor para y'(1).\n",
    "t0,T = 0.,1.\n",
    "N = 500\n",
    "y0 = np.array([1.,s0])\n",
    "t,y_s0 = eulerMethod(t0,T,N,y0,f)\n",
    "y0 = np.array([1.,s1])\n",
    "t,y_s1 = eulerMethod(t0,T,N,y0,f)\n",
    "\n"
   ]
  },
  {
   "cell_type": "code",
   "execution_count": 7,
   "id": "f693fc93-aecf-4e3d-a065-da3fe8df5535",
   "metadata": {},
   "outputs": [
    {
     "name": "stdout",
     "output_type": "stream",
     "text": [
      "F(-0.41369221080094576) = -1.3015069022515036e-09\n"
     ]
    }
   ],
   "source": [
    "#Aplicamos Bisección para encontrar la raíz\n",
    "s_a = bisect(F, s0, s1)\n",
    "print(f\"F({s_a}) = {F(s_a)}\")"
   ]
  },
  {
   "cell_type": "code",
   "execution_count": 8,
   "id": "05f28d29-b7e9-409d-854f-397dbea92291",
   "metadata": {},
   "outputs": [
    {
     "data": {
      "image/png": "[encoded data removed]",
      "text/plain": [
       "<Figure size 640x480 with 1 Axes>"
      ]
     },
     "metadata": {},
     "output_type": "display_data"
    }
   ],
   "source": [
    "#Aplicamos el método de Euler con y'(0) = s_a\n",
    "t0,T = 0.,1.\n",
    "N = 500\n",
    "y0 = np.array([1.,s_a])\n",
    "t,y = eulerMethod(t0,T,N,y0,f)\n",
    "\n",
    "plt.plot(t,y[:,0],'-b')\n",
    "plt.grid()\n",
    "plt.xlabel(r\"$t$\")\n",
    "plt.ylabel(r\"$y(t)$\")\n",
    "plt.show()"
   ]
  }
 ],
 "metadata": {
  "kernelspec": {
   "display_name": "Python 3",
   "language": "python",
   "name": "python3"
  },
  "language_info": {
   "codemirror_mode": {
    "name": "ipython",
    "version": 3
   },
   "file_extension": ".py",
   "mimetype": "text/x-python",
   "name": "python",
   "nbconvert_exporter": "python",
   "pygments_lexer": "ipython3",
   "version": "3.11.9"
  }
 },
 "nbformat": 4,
 "nbformat_minor": 5
}
