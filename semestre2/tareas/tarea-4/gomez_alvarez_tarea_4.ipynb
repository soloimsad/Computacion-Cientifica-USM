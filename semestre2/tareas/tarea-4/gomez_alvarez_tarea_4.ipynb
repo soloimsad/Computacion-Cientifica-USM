{
 "cells": [
  {
   "cell_type": "markdown",
   "metadata": {
    "id": "gRiKnj7uaKsi"
   },
   "source": [
    "<center>\n",
    "    <img src=\"http://sct.inf.utfsm.cl/wp-content/uploads/2020/04/logo_di.png\" style=\"width:60%\">\n",
    "    <h1> INF285 - Computación Científica </h1>\n",
    "    <h2> Tarea 4</h2>\n",
    "    <h2> [S]cientific [C]omputing [T]eam </a> </h2>\n",
    "    <h2> 2024-2</h2>\n",
    "</center>"
   ]
  },
  {
   "cell_type": "markdown",
   "metadata": {
    "id": "Zvam2AX7av6X"
   },
   "source": [
    "# Consultas\n",
    "\n",
    "* Enviar a: **tareas.inf285@gmail.com**\n",
    "* Se recibirán consultas en **tres** bloques:\n",
    "1. El primer bloque será desde las 12:15 hrs. hasta las 17:00 hrs. del día jueves, donde todas las preguntas recibidas dentro de este bloque se responderán con seguridad a partir de las 17:01 hrs. del día jueves.\n",
    "2. El segundo bloque de consultas será desde las 17:01 hrs. del día jueves hasta las 08:15 hrs. del día viernes, donde las preguntas recibidas dentro de este bloque horario se responderán con seguridad a partir de las 08:16 hrs. del día viernes.\n",
    "3. El tercer, y último bloque, de consultas será desde las 08:16 hrs. hasta las 14:30 hrs. del día viernes, donde las preguntas recibidas dentro de este bloque horario se responderán con seguridad a partir de las 14:31 hrs. del día viernes."
   ]
  },
  {
   "cell_type": "markdown",
   "metadata": {},
   "source": [
    "# Contexto"
   ]
  },
  {
   "cell_type": "markdown",
   "metadata": {
    "id": "ntiRiicabKmP"
   },
   "source": [
    "La ecuación de difusión de calor en una dimensión describe las calorías $u(x,t)$ en un punto $x \\in [0,L]$ de una varilla en un determinado tiempo $t$. Considerando que el calor de la varilla se perderá con el tiempo podemos definir $M(t)$ como la **cantidad total de calorías** en la varilla en un determinado tiempo $t$\n",
    "\n",
    "\n",
    "$$\n",
    "M(t) = \\int_{0}^{L}u(x,t)^2dx\n",
    "$$\n",
    "\n",
    "Al trabajar esta ecuación obtenemos:\n",
    "\n",
    "$$\n",
    "u_t = ku_{xx}\n",
    "$$\n",
    "\n",
    "donde k es el factor de transferencia de calor de la varilla que se considerará de valor constante."
   ]
  },
  {
   "cell_type": "markdown",
   "metadata": {},
   "source": [
    "# Librerías permitidas"
   ]
  },
  {
   "cell_type": "code",
   "execution_count": 1,
   "metadata": {
    "id": "dWUXxwdDEhFL"
   },
   "outputs": [],
   "source": [
    "import numpy as np\n",
    "from scipy.optimize import bisect\n",
    "\n",
    "import matplotlib.pyplot as plt\n",
    "from matplotlib import cm\n",
    "from mpl_toolkits.mplot3d import Axes3D\n",
    "import ipywidgets as widgets\n",
    "from ipywidgets import IntSlider\n",
    "from ipywidgets import interact\n",
    "\n",
    "from scipy.sparse import diags\n",
    "from scipy.sparse.linalg import spsolve"
   ]
  },
  {
   "cell_type": "markdown",
   "metadata": {
    "id": "3kLGNc1Zdt7p"
   },
   "source": [
    "# Pregunta 1"
   ]
  },
  {
   "cell_type": "markdown",
   "metadata": {
    "id": "0_1Lwr3wd1g2"
   },
   "source": [
    "Se sabe que la distribución inicial de calor $u(x,0)$ tiene la forma:\n",
    "\n",
    "$$\n",
    "u(x,0) = Ce^{-\\alpha x}sin(βx)+ln(1+x),\n",
    "$$\n",
    "\n",
    "donde los valores de $\\alpha$ y $\\beta$ son conocidos. No así la constante $C$."
   ]
  },
  {
   "cell_type": "markdown",
   "metadata": {
    "id": "-eujo8fPgu64"
   },
   "source": [
    "Tambien se conoce la cantidad total de calorías en el tiempo 0:"
   ]
  },
  {
   "cell_type": "markdown",
   "metadata": {
    "id": "uDJZ19zRhA5p"
   },
   "source": [
    "$$\n",
    "\\int_{0}^{L} (\\textit{C} e^{-\\alpha x} \\sin(\\beta x) + ln(1+x))^2 dx = M_0\n",
    "$$"
   ]
  },
  {
   "cell_type": "markdown",
   "metadata": {
    "id": "QVxCIpA6ig2t"
   },
   "source": [
    "Por lo tanto, podemos utilizar métodos ya conocidos para encontrar el valor de la constante $C$."
   ]
  },
  {
   "cell_type": "code",
   "execution_count": 2,
   "metadata": {
    "id": "BCF8leKWEdQY"
   },
   "outputs": [],
   "source": [
    "# no modificar\n",
    "L = 1.0\n",
    "M0 = 2.0\n",
    "alpha = 2.0\n",
    "beta = np.pi"
   ]
  },
  {
   "cell_type": "markdown",
   "metadata": {
    "id": "JFNyRx6Ur6-t"
   },
   "source": [
    "1.1 **(10pts)**\n",
    "Defina la funcion $u0(x, C)$ que se utilizará exclusivamente para calcular el valor de la constante $C$ desconocida. (Esta $u_0$ es distinta de $u_t$, ya que $u_0$  considera un tiempo $t=0$. Dicho de otro modo, $u_t(x,0)=u_0$)."
   ]
  },
  {
   "cell_type": "code",
   "execution_count": 3,
   "metadata": {
    "id": "Urr4_aIIkXNx"
   },
   "outputs": [],
   "source": [
    "def u0(x, C):\n",
    "    \"\"\"\n",
    "    input:\n",
    "    x: (ndarray) positions to evaluate\n",
    "    C: (float) constant\n",
    "    output:\n",
    "    (float) initial heat distribution\n",
    "    \"\"\" \n",
    "    # acá va su código\n",
    "    #--------------------------\n",
    "    u0_function= (C * np.exp(-alpha * x) * np.sin(beta * x) + np.log(1 + x))\n",
    "\n",
    "    #--------------------------\n",
    "    return u0_function"
   ]
  },
  {
   "cell_type": "markdown",
   "metadata": {
    "id": "7vny3TeYEUdn"
   },
   "source": [
    "1.2 **(10pts)** Utilizando la definición de $u0$, calcule el valor de la constante $C$.\n",
    "\n",
    "*Hint 1: f(x) = c, can be reorganized to: g(x) = f(x) - c = 0.*\n",
    "\n",
    "*Hint 2: g(x)=0 is a well known problem.*"
   ]
  },
  {
   "cell_type": "code",
   "execution_count": 4,
   "metadata": {},
   "outputs": [],
   "source": [
    "def trapezoidal_integral(f, x, C):\n",
    "    \"\"\"\n",
    "    input:\n",
    "    f (function)          : function to integrate\n",
    "    x (ndarray)           : positions to evaluate\n",
    "    C (float)             : constant\n",
    "\n",
    "    output:\n",
    "    aproximation (float)  : aproximation of the integral\n",
    "    \"\"\"\n",
    "    # acá va su código\n",
    "    #--------------------------\n",
    "    h = x[1] - x[0]\n",
    "    aproximation = h / 2 * (f(x[0], C)**2 + f(x[-1], C)**2 + 2 * np.sum(f(x[1:-1], C)**2))\n",
    "\n",
    "    \n",
    "    #--------------------------\n",
    "    return aproximation"
   ]
  },
  {
   "cell_type": "code",
   "execution_count": 5,
   "metadata": {
    "id": "ZoexixxxFYrm"
   },
   "outputs": [],
   "source": [
    "def find_C(M0, x):\n",
    "    \"\"\"\n",
    "    input:\n",
    "    M0 (float)  : initial energy\n",
    "    x (ndarray) : positions to evaluate\n",
    "\n",
    "    output:\n",
    "    C (float)   : constant that satisfies the energy condition\n",
    "    \"\"\"\n",
    "    # acá va su código\n",
    "    #--------------------------\n",
    "    def g(C):\n",
    "        integral = trapezoidal_integral(u0, x, C)\n",
    "        return integral - M0 \n",
    "\n",
    "    def biseccion(func, C_min, C_max, tol=1e-6, max=100):\n",
    "        i = 0\n",
    "        while (C_max - C_min) / 2 > tol and i < max:\n",
    "            C_mid = (C_min + C_max) / 2\n",
    "            if func(C_mid) == 0: \n",
    "                return C_mid\n",
    "            \n",
    "            elif func(C_min) * func(C_mid) < 0:\n",
    "                C_max = C_mid\n",
    "            else:\n",
    "                C_min = C_mid\n",
    "            i += 1\n",
    "\n",
    "        return (C_min + C_max) / 2\n",
    "    \n",
    "    C= biseccion(g,0,10, tol=1e-6)\n",
    "    #--------------------------\n",
    "    return C"
   ]
  },
  {
   "cell_type": "code",
   "execution_count": 6,
   "metadata": {
    "id": "6mmLYpdsF6eL"
   },
   "outputs": [],
   "source": [
    "# Ejecute\n",
    "N = 1000\n",
    "x = np.linspace(0, L, N)\n",
    "C = find_C(M0, x)\n",
    "u_0 = lambda x: u0(x, C)\n"
   ]
  },
  {
   "cell_type": "markdown",
   "metadata": {
    "id": "U__VzAqdGq6m"
   },
   "source": [
    "# Pregunta 2"
   ]
  },
  {
   "cell_type": "markdown",
   "metadata": {
    "id": "1yeARF-ukvHw"
   },
   "source": [
    "2.1 **(10 pts)**\n",
    "Realice la discretización de la función $u_t = ku_{xx}$ para obtener la progresión de la solución de la ecuación diferencial:\n",
    "\n",
    "Teniendo en cuenta lo siguiente:\n",
    "\n",
    "$$u_t = \\frac{u_{j+1}-u_j}{\\Delta{t}}$$\n",
    "$$u_{xx}= \\frac{u_{i+1}-2 u_i + u_{i-1}}{\\Delta{x^2}}$$\n",
    "\n",
    "en base a esta discretización utilizando diferencias finitas tendríamos la siguiente relación:\n",
    "\n",
    "$$ \\frac{u_{j+1}-u_j}{\\Delta{t}} = k \\frac{u_{i+1}-2 u_i + u_{i-1}}{\\Delta{x^2}}$$\n",
    "\n",
    "Despejando para $u(x_i,t_{j+1})$ tenemos lo siguiente: \n",
    "$$u(x_i,t_{j+1})= u(x_i,t_{j}) + \\frac{k*\\Delta{t}}{\\Delta{x^2}}[u(x_{i+1,t_j})-2*u(x_{i+1,t_j}) + u(x_{i-1,t_j})]$$"
   ]
  },
  {
   "cell_type": "markdown",
   "metadata": {
    "id": "xefYKDhUlU_M"
   },
   "source": [
    "**Respuesta:**"
   ]
  },
  {
   "cell_type": "markdown",
   "metadata": {
    "id": "IZWkuRWTeYP7"
   },
   "source": [
    "2.2 **(15 pts)** Aplique métodos numéricos para resolver esta ecuación para un tiempo $t\\in [0,T]$. Tome en cuenta las siguientes consideraciones:\n",
    "\n",
    "*   $x \\in [0,L]$\n",
    "*   $u(x,0) = ux0(x)$\n",
    "*   $u(0,t) = u0t(t)$\n",
    "*   $u(L,t) = uLt(t)$\n"
   ]
  },
  {
   "cell_type": "code",
   "execution_count": 7,
   "metadata": {
    "id": "HNau1Ua3eV40"
   },
   "outputs": [],
   "source": [
    "#Función entregada\n",
    "def spatial_derivative(u, dx):\n",
    "  du2 = np.zeros_like(u)\n",
    "  du2[1:-1] = (u[2:] -2*u[1:-1] + u[:-2])/ dx**2\n",
    "  return du2\n"
   ]
  },
  {
   "cell_type": "code",
   "execution_count": 8,
   "metadata": {
    "id": "IoHpDnmVpAQs"
   },
   "outputs": [],
   "source": [
    "def heat_diffusion(T, L, ux0, u0t, uLt, k, N_x = 100, N_t=100):\n",
    "    \"\"\"\n",
    "    input:\n",
    "    T       : (int) Max time of simulation\n",
    "    L       : (int) length of the rod\n",
    "    ux0     : (callable) function that describes u(x,0)\n",
    "    u0t     : (callable) function that describes u(0,t)\n",
    "    uLt     : (callable) function that describes u(L,t)\n",
    "    k       : (int) diffusion coeficient\n",
    "    N_x     : (int) number of steps for x\n",
    "    N_t     : (int) number of steps for T\n",
    "\n",
    "    output:\n",
    "    u       : (2D array) matrix with the values values u(x,t)\n",
    "    \"\"\"\n",
    "    # acá va su código\n",
    "    #--------------------------\n",
    "    dx = L / (N_x-1)\n",
    "    dt = T / (N_t-1)\n",
    "    \n",
    "    alpha = k * dt / dx**2\n",
    "    u = np.zeros((N_t, N_x))\n",
    "    x_values = np.linspace(0, L, N_x)\n",
    "    u[0, :] = ux0(x_values)  \n",
    "    \n",
    "    for n in range(1, N_t):\n",
    "        u[n, 0] = u0t(n * dt)  \n",
    "        u[n, -1] = uLt(n * dt)  \n",
    "        u[n, 1:-1] = u[n-1, 1:-1] + alpha * (u[n-1, 2:] - 2 * u[n-1, 1:-1] + u[n-1, :-2])\n",
    "    \n",
    "    #--------------------------\n",
    "    return(u)"
   ]
  },
  {
   "cell_type": "code",
   "execution_count": 9,
   "metadata": {
    "id": "C2C0aiNhUz52"
   },
   "outputs": [],
   "source": [
    "# No modifique, solo ejecute\n",
    "L = 10\n",
    "T = 1\n",
    "k = 0.05\n",
    "N_x = 100\n",
    "N_t = 100\n",
    "u0t = lambda x: 0\n",
    "uLt = lambda x: 0\n",
    "\n",
    "u = heat_diffusion(T,L,u_0,u0t,uLt,k)"
   ]
  },
  {
   "cell_type": "code",
   "execution_count": 10,
   "metadata": {
    "id": "0gtyjR5uU0Xo"
   },
   "outputs": [
    {
     "data": {
      "application/vnd.jupyter.widget-view+json": {
       "model_id": "2eec04948a314401b51e84026b847c6a",
       "version_major": 2,
       "version_minor": 0
      },
      "text/plain": [
       "interactive(children=(IntSlider(value=40, description='elev', max=180, step=10), IntSlider(value=230, descript…"
      ]
     },
     "metadata": {},
     "output_type": "display_data"
    },
    {
     "data": {
      "text/plain": [
       "<function __main__.plot_interactive(elev=40, azim=230)>"
      ]
     },
     "execution_count": 10,
     "metadata": {},
     "output_type": "execute_result"
    }
   ],
   "source": [
    "# No modifique, solo ejecute\n",
    "def plot_interactive(elev=40,azim=230):\n",
    "    # Crear la figura para el gráfico 3D\n",
    "    x = np.linspace(0,10,100)\n",
    "    t = np.linspace(0,1,100)\n",
    "    X_l,T_l = np.meshgrid(x,t)\n",
    "    fig = plt.figure(figsize=(10, 6))\n",
    "    ax = fig.add_subplot(111, projection='3d')\n",
    "\n",
    "    # Graficar la superficie\n",
    "    surf = ax.plot_surface(X_l, T_l, u, cmap=\"hot\", linewidth=0, antialiased=False)\n",
    "\n",
    "    ax.view_init(elev,azim)\n",
    "\n",
    "    # Etiquetas de los ejes\n",
    "    ax.set_xlabel(\"Espacio (x)\")\n",
    "    ax.set_ylabel(\"Tiempo (t)\")\n",
    "    ax.set_zlabel(\"Temperatura u(x,t)\")\n",
    "    ax.set_title(\"Evolución de la ecuación de calor en 3D\")\n",
    "\n",
    "    # Mostrar el gráfico\n",
    "    plt.show()\n",
    "\n",
    "elev_widget = IntSlider(min=0, max=180, step=10, value=40)\n",
    "azim_widget = IntSlider(min=0, max=360, step=10, value=230)\n",
    "interact(plot_interactive, elev=elev_widget, azim=azim_widget)\n"
   ]
  },
  {
   "cell_type": "markdown",
   "metadata": {
    "id": "4psPMS4AxnVy"
   },
   "source": [
    "### ¡Si todo ha salido bien el gráfico debería verse así!\n",
    "<img src=\"https://media.discordapp.net/attachments/1170178625023246348/1308608276950421514/image.png?ex=673e8fed&is=673d3e6d&hm=2d6f021cbd7568ae15ddb78e2e7ce52fd513d7dcabf268632830b7f11c44ea32&=&format=webp&quality=lossless\" style=\"width:20%\">"
   ]
  },
  {
   "cell_type": "markdown",
   "metadata": {
    "id": "FVaEU2zZVBUh"
   },
   "source": [
    "Otra prueba que puede realizar es utilizando un $u_0(x) = \\frac{sin(x*\\pi)^2}{2}$"
   ]
  },
  {
   "cell_type": "code",
   "execution_count": 11,
   "metadata": {
    "id": "JlLxRNATVEb0"
   },
   "outputs": [
    {
     "data": {
      "application/vnd.jupyter.widget-view+json": {
       "model_id": "5ce79608defb45fc8be89549aae284d8",
       "version_major": 2,
       "version_minor": 0
      },
      "text/plain": [
       "interactive(children=(IntSlider(value=40, description='elev', max=180, step=10), IntSlider(value=230, descript…"
      ]
     },
     "metadata": {},
     "output_type": "display_data"
    },
    {
     "data": {
      "text/plain": [
       "<function __main__.plot_interactive(elev=40, azim=230)>"
      ]
     },
     "execution_count": 11,
     "metadata": {},
     "output_type": "execute_result"
    }
   ],
   "source": [
    "L = 10\n",
    "T=1\n",
    "k = 0.05\n",
    "N_x = 100\n",
    "N_t = 100\n",
    "u_0 = lambda x: (np.sin(x*np.pi)**2)/2\n",
    "u0t = lambda x: (np.log(x+3)*(x+3))**-2\n",
    "uLt = lambda x: x/200\n",
    "\n",
    "u = heat_diffusion(T,L,u_0,u0t,uLt,k)\n",
    "elev_widget = IntSlider(min=0, max=180, step=10, value=40)\n",
    "azim_widget = IntSlider(min=0, max=360, step=10, value=230)\n",
    "interact(plot_interactive, elev=elev_widget, azim=azim_widget)"
   ]
  },
  {
   "cell_type": "markdown",
   "metadata": {
    "id": "-QqjZVI3VI_R"
   },
   "source": [
    "### Este es el resultado esperado:\n",
    "\n",
    "<img src=\"https://media.discordapp.net/attachments/1170178625023246348/1308625356734988359/image.png?ex=673e9fd6&is=673d4e56&hm=bc516c72b8d492cd18d78b309b206c6edbb61f6fcc246c5c4cdcd0f71deff725&=&format=webp&quality=lossless\" style=\"width:20%\">"
   ]
  },
  {
   "cell_type": "markdown",
   "metadata": {
    "id": "vnilcDa-a-2o"
   },
   "source": [
    "2.3 **(15 pts)** Realice un análisis de esta ecuación y su solución ¿Cómo se comporta el calor en la varilla con el paso del tiempo? ¿Cómo afecta las 3 funciones $ux0$, $u0t$ y $uLt$ al comportamiento del calor en la varilla?\n",
    "Si desea experimentar con la celda de arriba, siéntase libre de hacerlo y compartir sus descubrimientos con una foto 😄\n",
    "\n"
   ]
  },
  {
   "cell_type": "markdown",
   "metadata": {
    "id": "U7jPRCW1e6EJ"
   },
   "source": [
    "**Respuesta:**\n",
    "\n",
    "A medida que avanza el tiempo se puede ver que la temperutura tiende a estabilizarse por la varilla, que corresponde a la disipicación del calor. Esto se asemeja a un cuerpo en estado estacionario (en este caso, equilibrio térmico). La condición inicial ux0 afecta directamente la curva del eje t en el tiempo inicial, ya después se difimuna. \n",
    "\n",
    "En el caso de las condiciones de frontera, determinan como es que el calor se va propagará a lo largo de la varilla. En algún punto la temperatura debería converger a una distribución uniforme, esto quiere decir que las temperaturas a lo largo de la varilla convergan a un mismo valor (para un tiempo $u_tx$ digamos), distribuyendo las zonas de mas calor hacia las que tienen menos calor."
   ]
  },
  {
   "cell_type": "markdown",
   "metadata": {
    "id": "tZXaZZW0Lon4"
   },
   "source": [
    "# Pregunta 3\n",
    "Ahora expandiremos nuestra ecuación de difusión térmica de una dimensión a dos dimensiones, es decir, ahora contamos con 3 variables para determinar el calor en un punto de la placa."
   ]
  },
  {
   "cell_type": "markdown",
   "metadata": {
    "id": "TTWrnrqdLulb"
   },
   "source": [
    "La ecuación diferencial parcial $(PDE)$ a resolver es:\n",
    "\n",
    "$$\n",
    "\\frac{\\partial U}{\\partial t} = k \\left( \\frac{\\partial^2 U}{\\partial x^2} + \\frac{\\partial^2 U}{\\partial y^2} \\right)\n",
    "$$\n",
    "\n",
    "donde:\n",
    "\n",
    "\n",
    "\n",
    "*   **$U(x, y, t)$**: define el calor en la posición **$(x, y)$** y tiempo **$t$**.\n"
   ]
  },
  {
   "cell_type": "markdown",
   "metadata": {
    "id": "SpEOKH8rNgPa"
   },
   "source": [
    "Consideraciones:\n",
    "\n",
    "* $x\\in[0,L_x]$\n",
    "* $y\\in[0,L_y]$\n",
    "\n",
    "* $U(x,y,0) = f(x,y)$\n",
    "* $U(0,0,t) = T1$\n",
    "* $U(L,0,t) = T2$\n",
    "* $U(0,L,t) = T3$\n",
    "* $U(L,L,t) = T4$\n",
    "\n",
    "**T1, T2, T3 y T4 son constantes.**"
   ]
  },
  {
   "cell_type": "markdown",
   "metadata": {
    "id": "1xA123okO62a"
   },
   "source": [
    "3.1 **(10 pts)** Discretice la ecuación usando diferencias finitas para obtener el Laplaciano y defina la evolución temporal del sistema:"
   ]
  },
  {
   "cell_type": "markdown",
   "metadata": {
    "id": "4Y4RRnO5tb7z"
   },
   "source": [
    "**Respuesta:**\n",
    "\n",
    "Siguiendo los pasos que se utilizaron para discretizar la primera ecuación (apartado 2.1) con la definición de la segunda derivada tenemos lo siguiente:\n",
    "\n",
    "\n",
    "\n",
    "Nuestro objetivo es calcular $U_{i,j}^{n+1}$.\n",
    "\n",
    "$$ \\mathbf{U_{i,j}^{t+1} = U_{i,j}^t + k \\Delta t \\left( \\frac{U_{i+1,j}^t - 2U_{i,j}^t + U_{i-1,j}^t}{\\Delta x^2} + \\frac{U_{i,j+1}^t - 2U_{i,j}^t + U_{i,j-1}^t}{\\Delta y^2} \\right)} $$ \n",
    "\n",
    "*  Dominio espacial: Se divide el área en una cuadrícula, con puntos espaciados por $\\Delta x$ en la dirección x y $\\Delta y$ en la dirección y.\n",
    "*  Dominio temporal: El tiempo se divide en pasos de tiempo de tamaño $\\Delta t$."
   ]
  },
  {
   "cell_type": "markdown",
   "metadata": {
    "id": "ZcisTQJfPqmX"
   },
   "source": [
    "3.2.1 **(5 pts)** Implemente la funcion $Uxy0$ usando el siguiente perfil\n",
    "Gaussiano:\n",
    "\n",
    "$$\n",
    "U(x, y, 0) = U_{\\text{max}} \\cdot \\exp \\left( -\\frac{(x - \\frac{L}{2})^2 + (y - \\frac{L}{2})^2}{c^2} \\right)\n",
    "$$\n"
   ]
  },
  {
   "cell_type": "code",
   "execution_count": 12,
   "metadata": {
    "id": "RNSDI-EdPvJ_"
   },
   "outputs": [],
   "source": [
    "def Uxy0(x,y):\n",
    "  \"\"\"\n",
    "  input:\n",
    "  x      :(int) x coordinate of a pint in the plank\n",
    "  y      :(int) y coordinate of a pint in the plank\n",
    "\n",
    "  output:\n",
    "  U      :(float) value of the heat in a point of the plank in t = 0\n",
    "  \"\"\"\n",
    "  L = 0.1\n",
    "  c = 0.04\n",
    "  Umax = 20\n",
    "  # acá va su código\n",
    "  #--------------------------\n",
    "  U = Umax * np.exp(-(np.power((x - L/2),2) + np.power((y - L/2),2)) / np.power(c,2))\n",
    "  #--------------------------\n",
    "  return U"
   ]
  },
  {
   "cell_type": "markdown",
   "metadata": {
    "id": "oTynecFXpD7q"
   },
   "source": [
    "3.2.2 **(5pts)** ¿Cómo se comporta este perfil Gaussiano en la plancha? Justifique e identifique los componentes del perfil\n",
    "\n",
    "R: \n",
    "*  A medida que uno se aleja del centro la amplitud disminuye de manera exponencial como lo podemos observar el perfil gaussiano $\\exp \\left( -\\frac{(x - \\frac{L}{2})^2 + (y - \\frac{L}{2})^2}{c^2} \\right)$ ya que este termino corresponde a el aumenta de la distancia al centro de la plancha.\n",
    "*  El centro del perfil se refleja como el termino de amplitud máxima el cual está ubicado en la coordenada $(\\frac{L}{2},\\frac{L}{2})$.\n",
    "*  Otro dato importate es el dato c, el cual es el que controla como se dispersa el perfil alrededor del centro, es proporcional al \"radio\" del perfil, entre mas grande $c$ el perfil es mas amplio, y lo mismo cuando es mas chico.\n",
    "*  También se encuentra la distancia hacia el cento del perfil, el cual influye directamente en cuánto disminuye el valor de $U(x,y,0)$"
   ]
  },
  {
   "cell_type": "markdown",
   "metadata": {
    "id": "NU42xp6nrdD3"
   },
   "source": [
    "**Respuesta:**"
   ]
  },
  {
   "cell_type": "markdown",
   "metadata": {
    "id": "2Xk0bDTg8GKL"
   },
   "source": [
    "3.3 **(20 pts)** Implemente diferencias finitas para resolver el sistema de ecuaciones:\n",
    "\n"
   ]
  },
  {
   "cell_type": "code",
   "execution_count": 13,
   "metadata": {
    "id": "Dlb4El6H_GLM"
   },
   "outputs": [],
   "source": [
    "def heat_diffusion_2d(Lx, Ly, k, T0, T1, T2, T3, T4, nx, ny, dt, tf):\n",
    "    \"\"\"\n",
    "    input:\n",
    "    Lx, Ly          : (int) dimensiones del dominio en metros (longitud en x y en y)\n",
    "    k               : (int) difusividad térmica (m^2/s)\n",
    "    T0              : temperatura inicial del campo interno\n",
    "    T1, T2, T3, T4  : condiciones de frontera (en x=0, x=Lx, y=0, y=Ly)\n",
    "    nx, ny          : número de puntos en las direcciones x e y\n",
    "    dt              : paso de tiempo (s)\n",
    "    tf              : tiempo final (s)\n",
    "\n",
    "    output:\n",
    "    T               : arreglo de temperaturas para cada tiempo\n",
    "    \"\"\"\n",
    "    # acá va su código\n",
    "    #--------------------------\n",
    "    \n",
    "    dx = Lx / (nx - 1)\n",
    "    dy = Ly / (ny - 1)\n",
    "    nt = int(tf / dt)  \n",
    "    alpha_x = k * dt / dx**2\n",
    "    alpha_y = k * dt / dy**2\n",
    "    T = np.zeros((ny, nx, nt))\n",
    "    T[:, :, 0] = T0  \n",
    "\n",
    "    T[:, 0, :] = T1  # x = 0\n",
    "    T[:, -1, :] = T2  # x = Lx\n",
    "    T[0, :, :] = T3  # y = 0\n",
    "    T[-1, :, :] = T4  # y = Ly\n",
    "\n",
    "    for n in range(0, nt-1):\n",
    "        T[1:-1, 1:-1, n+1] = T[1:-1, 1:-1, n] + alpha_x * (\n",
    "            T[1:-1, 2:, n] - 2*T[1:-1, 1:-1, n] + T[1:-1, :-2, n]\n",
    "        ) + alpha_y * (\n",
    "            T[2:, 1:-1, n] - 2*T[1:-1, 1:-1, n] + T[:-2, 1:-1, n]\n",
    "        )\n",
    "    #--------------------------\n",
    "\n",
    "    return T"
   ]
  },
  {
   "cell_type": "code",
   "execution_count": 14,
   "metadata": {
    "id": "lNnl_hcEAjhV"
   },
   "outputs": [
    {
     "data": {
      "application/vnd.jupyter.widget-view+json": {
       "model_id": "921d5fa400c84e2597c34641db4e35ce",
       "version_major": 2,
       "version_minor": 0
      },
      "text/plain": [
       "interactive(children=(IntSlider(value=40, description='elev', max=180, step=10), IntSlider(value=230, descript…"
      ]
     },
     "metadata": {},
     "output_type": "display_data"
    },
    {
     "data": {
      "text/plain": [
       "<function __main__.see_results(elev=40, azim=230, Tiempo=0)>"
      ]
     },
     "execution_count": 14,
     "metadata": {},
     "output_type": "execute_result"
    }
   ],
   "source": [
    "#No modifique solo ejecute\n",
    "\n",
    "Lx = 0.1  # longitud del lado x (m)\n",
    "Ly = 0.1  # longitud del lado y (m)\n",
    "k = 1.172E-5  # Difusividad térmica (m^2/s) para acero, 1% carbono\n",
    "T1 = 0  # frontera inferior\n",
    "T2 = 0  # frontera superior\n",
    "T3 = 0  # frontera izquierda\n",
    "T4 = 0  # frontera derecha\n",
    "nx = 40  # número de puntos en x\n",
    "ny = 40  # número de puntos en y\n",
    "dt = 0.1  # paso de tiempo (s)\n",
    "tf = 10   # tiempo final (s)\n",
    "\n",
    "T0 = np.zeros((nx, ny))\n",
    "for i in range(nx):\n",
    "    for j in range(ny):\n",
    "        T0[i, j] = Uxy0(i*(Lx/(nx-1)),j*(Ly/(ny-1)))\n",
    "\n",
    "\n",
    "\n",
    "def see_results(elev=40, azim=230, Tiempo=0):\n",
    "    T = heat_diffusion_2d(Lx, Ly, k, T0, T1, T2, T3, T4, nx, ny, dt, tf)\n",
    "    X = np.linspace(0, Lx, nx, endpoint=True)\n",
    "    Y = np.linspace(0, Ly, ny, endpoint=True)\n",
    "    X, Y = np.meshgrid(X, Y)\n",
    "\n",
    "    fig = plt.figure()\n",
    "    ax = fig.add_subplot(111, projection='3d')\n",
    "\n",
    "    ax.view_init(elev,azim)\n",
    "\n",
    "    surf = ax.plot_surface(X, Y, T[:, :, Tiempo], cmap='gist_rainbow_r', edgecolor='none')\n",
    "    ax.set_xlabel('X [m]')\n",
    "    ax.set_ylabel('Y [m]')\n",
    "    ax.set_zlabel('T [°C]')\n",
    "    plt.show()\n",
    "\n",
    "\n",
    "T_widget =  IntSlider(min=0, max=100, step=1, value=0)\n",
    "elev_widget = IntSlider(min=0, max=180, step=10, value=40)\n",
    "azim_widget = IntSlider(min=0, max=360, step=10, value=230)\n",
    "interact(see_results, elev=elev_widget, azim=azim_widget, Tiempo=T_widget)"
   ]
  },
  {
   "cell_type": "markdown",
   "metadata": {
    "id": "ZUmNJU_StTe0"
   },
   "source": [
    "### Si hiciste todo bien, tu gráfico debería verse así:\n",
    "\n",
    "<img src=\"https://media.discordapp.net/attachments/1170178625023246348/1308656987776483348/image.png?ex=673ebd4b&is=673d6bcb&hm=dfe12ffb107716848d9d5f858e416c12f0a205d8bff469be9cac24021429fcca&=&format=webp&quality=lossless\" style=\"width:20%\">"
   ]
  },
  {
   "cell_type": "markdown",
   "metadata": {
    "id": "edn3qqjUut3I"
   },
   "source": [
    "\n",
    "\n",
    "**¡Ya ha llegado al final de la tarea 4! Ahora debe enviarla antes de las 23:55 hrs. del viernes 22 de noviembre!**  \n",
    "\n",
    "**Recuerde que el archivo de entrega debe seguir el siguiente formato: “apellido1_apellido2_tarea_numero.ipynb” en minúsculas, y no olvide revisar el reglamento de tareas.**"
   ]
  }
 ],
 "metadata": {
  "colab": {
   "provenance": [],
   "toc_visible": true
  },
  "kernelspec": {
   "display_name": "Python 3",
   "language": "python",
   "name": "python3"
  },
  "language_info": {
   "codemirror_mode": {
    "name": "ipython",
    "version": 3
   },
   "file_extension": ".py",
   "mimetype": "text/x-python",
   "name": "python",
   "nbconvert_exporter": "python",
   "pygments_lexer": "ipython3",
   "version": "3.11.9"
  }
 },
 "nbformat": 4,
 "nbformat_minor": 0
}
