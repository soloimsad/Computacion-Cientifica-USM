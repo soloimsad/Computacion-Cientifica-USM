{
 "cells": [
  {
   "cell_type": "markdown",
   "metadata": {},
   "source": [
    "$$c = \\int^{a}_{b}{f(x)dx}$$\n",
    "\n",
    "## Sumas por la izquierda ##\n",
    "\n",
    "$$c = \\sum^{m-1}_{k=0}{f(x_k)(x_{k+1}-x_k) + E_L}$$\n",
    "\n",
    "## Sumas por la derecha ##\n",
    "\n",
    "\n",
    "$$c = \\sum^{m-1}_{k=0}{f(x_{k+1})(x_{k+1}-x_k) + E_R}$$"
   ]
  },
  {
   "cell_type": "markdown",
   "metadata": {},
   "source": [
    "## Punto medio y error viene dado por: ##\n",
    "\n",
    "$$c = f(\\frac{x_0+x_1}{2})(x_1-x_0)$$\n",
    "\n",
    "\n",
    "$$ E_{PM} = \\frac{h^3}{24} f''(\\epsilon)$$ \n",
    "\n",
    "donde $ \\epsilon \\in [x_0,x_1] $"
   ]
  },
  {
   "cell_type": "markdown",
   "metadata": {},
   "source": [
    "## Regla del trapecio  ##\n",
    "\n",
    "$$int = \\frac{h}{2}(y_0+y_1) - \\frac{h^3}{12} f''(\\epsilon)$$\n",
    "\n",
    "\n",
    "donde $ \\epsilon \\in [x_0,x_1] $"
   ]
  },
  {
   "cell_type": "markdown",
   "metadata": {},
   "source": [
    "## Regla de simpson ##\n",
    "\n",
    "$$ int = \\frac{h}{3}(y_0+4 y_1 + y_2) - \\frac{h^5}{90}f^{(iv)}(\\epsilon) $$\n",
    "\n",
    "*Puntos impares para cantidad de intervalos pares*\n"
   ]
  },
  {
   "cell_type": "markdown",
   "metadata": {},
   "source": [
    "## Cuadratura gaussiana ##\n",
    "\n"
   ]
  }
 ],
 "metadata": {
  "language_info": {
   "name": "python"
  }
 },
 "nbformat": 4,
 "nbformat_minor": 2
}
