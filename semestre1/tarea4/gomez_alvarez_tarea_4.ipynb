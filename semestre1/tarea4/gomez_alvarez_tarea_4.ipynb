{
 "cells": [
  {
   "cell_type": "markdown",
   "id": "5965150c-7b80-49e0-9267-9560754c152d",
   "metadata": {},
   "source": [
    "<center>\n",
    "    <h1> INF285 - Computación Científica </h1>\n",
    "    <h2> Tarea 4 - Código Base</h2>\n",
    "    <h2> [S]cientific [C]omputing [T]eam </a> </h2>\n",
    "    <h2> 2024-1</h2>\n",
    "</center>"
   ]
  },
  {
   "cell_type": "markdown",
   "id": "2fc283ff-723a-409e-a198-4bea80ca2388",
   "metadata": {},
   "source": [
    "# Consultas\n",
    "\n",
    "* Enviar a: **tareas.inf285@gmail.com**\n",
    "* Se recibirán consultas en **tres** bloques. i) El primer bloque será desde las 12:15 hrs. hasta las 17:00 hrs. del día jueves, donde todas las preguntas recibidas dentro de este bloque se responderán con seguridad a partir de las 17:01 hrs. del día jueves. (ii) El segundo bloque de consultas será desde las 17:01 hrs. del día jueves hasta las 08:15 hrs. del día viernes, donde las preguntas recibidas dentro de este bloque horario se responderán con seguridad a partir de las 08:16 hrs. del día viernes. (iii) El tercer, y último bloque, de consultas será desde las 08:16 hrs. hasta las 14:30 hrs. del día viernes, donde las preguntas recibidas dentro de este bloque horario se responderán con seguridad a partir de las 14:31 hrs. del día viernes."
   ]
  },
  {
   "cell_type": "markdown",
   "id": "4beec7f5-9da4-498a-831f-8b229ce4bb9d",
   "metadata": {},
   "source": [
    "# Librerías (no utilizar liberías adicionales)"
   ]
  },
  {
   "cell_type": "code",
   "execution_count": 18,
   "id": "ff73dff5-ef8e-4f2d-b551-07dc88ffa520",
   "metadata": {},
   "outputs": [],
   "source": [
    "import numpy as np # type: ignore\n",
    "import matplotlib.pyplot as plt # type: ignore"
   ]
  },
  {
   "cell_type": "markdown",
   "id": "d8c06b3c-8ee8-40d2-9406-f43f4bf87a83",
   "metadata": {},
   "source": [
    "# Contexto\n",
    "\n",
    "Indiana Jones ha viajado al pasado! Específicamente ha viajado a la antigua Grecia donde se ha encontrado frente a frente con el mismísimo Arquímedes de Siracusa. Este último al ver que el arqueólogo claramente no es de la época decide ayudarlo para regresar, pero ¿Cómo lo puede ayudar?\n",
    "\n",
    "Arquímedes ha inventado la Anticitera, un dispositivo que permite encontrar grietas temporales para poder viajar en el tiempo. Mediante la ubicación que indica el dispositivo, Indiana podrá dirigirse a ese punto y poder volver. ¿Cuál es el problema? La Anticitera funciona mediante polinomios específicos que permiten calcular las coordenadas. Más aún, el dispositivo **muestra una función** y, en caso de que sea un **polinomio**, se debe estimar su **grado**. Para la época de Arquímedes aún no se desarrollaban algoritmos avanzados para este tipo de desafíos, pero Indiana Jones viene del futuro junto con su joven asistente Short Round, quien tiene conocimientos en Computación Científica!"
   ]
  },
  {
   "cell_type": "markdown",
   "id": "d3305180-7215-4780-92f8-69f6a64667bf",
   "metadata": {},
   "source": [
    "# Funciones Entregadas (No debe modificarlas)"
   ]
  },
  {
   "cell_type": "code",
   "execution_count": 19,
   "id": "38a180ea-5c32-41b5-8b5d-1dfc7f12f2d3",
   "metadata": {},
   "outputs": [],
   "source": [
    "def gaussian_nodes_and_weights(m, a, b):\n",
    "    if m==1: \n",
    "        return np.array([1]), np.array([2])\n",
    "    beta = .5 / np.sqrt(1.-(2.*np.arange(1.,m))**(-2))\n",
    "    T = np.diag(beta,1) + np.diag(beta,-1)\n",
    "    D, V = np.linalg.eigh(T)\n",
    "    x = D\n",
    "    x = .5 * ((b-a)*x + b + a)\n",
    "    w = 2*V[0,:]**2\n",
    "    w = .5*(b-a)*w\n",
    "    return x, w\n",
    "    \n",
    "def gaussianquad(myfun, m, a, b):\n",
    "    f = np.vectorize(myfun)\n",
    "    x, w = gaussian_nodes_and_weights(m, a, b)\n",
    "    int_val = np.dot(f(x),w)\n",
    "    return int_val"
   ]
  },
  {
   "cell_type": "markdown",
   "id": "cdc9615f-b3db-4131-84c2-5d89eb3dbd73",
   "metadata": {},
   "source": [
    "Consideremos la siguiente función:\n",
    "\n",
    "$$\n",
    "f_1(x) = \\sin\\left(\\dfrac{1}{x}\\right), \\quad x \\in [0,1]\n",
    "$$\n",
    "\n",
    "y la integral:\n",
    "\n",
    "$$\n",
    "I_1 = \\int_{0}^{1}f_1(x)\\,\\mathrm{d}x\n",
    "$$\n",
    "\n",
    "Vamos a calcular la aproximación de $I_1$ mediante *Cuadratura Gaussiana* con $m$ nodos para $ m = \\{2,\\dots,500\\}$. En el siguiente gráfico se observa, mediante los puntos azules, los valores de las aproximaciones y cada punto rojo representa el valor exacto de la integral."
   ]
  },
  {
   "cell_type": "code",
   "execution_count": 20,
   "id": "d8e32a37-8891-42a6-a46e-859bf26dddf1",
   "metadata": {},
   "outputs": [],
   "source": [
    "#No modificar la celda, solo ejecutar.\n",
    "gaussianquad_vec = np.vectorize(gaussianquad)\n",
    "m_range = range(2,501)\n",
    "size_m = len(m_range)\n",
    "exact_int = (0.504067)*np.ones(size_m)\n",
    "\n",
    "f1 = lambda x: np.sin(1./x)\n",
    "a,b = 0.,1.\n",
    "quad = gaussianquad_vec(f1,m_range,a,b)\n",
    "plt.plot(m_range,quad,'.b')\n",
    "plt.plot(m_range,exact_int,'.r')\n",
    "plt.xlabel(r\"$m$\")\n",
    "plt.ylabel(r\"$I_1$\")\n",
    "plt.grid()\n",
    "plt.show()"
   ]
  },
  {
   "cell_type": "markdown",
   "id": "fd8bfb90-6425-480e-bde0-4cb1bf28bc25",
   "metadata": {},
   "source": [
    "Consideremos ahora la siguiente función:\n",
    "\n",
    "$$\n",
    "f_2(x) = x^{15} - 2\\,x^{10} + x^{3} - x + 1, \\quad x \\in [0,1]\n",
    "$$\n",
    "\n",
    "y la integral:\n",
    "\n",
    "$$\n",
    "I_2 = \\int_{0}^{1}f_2(x)\\,\\mathrm{d}x\n",
    "$$\n",
    "\n",
    "Vamos a calcular la aproximación de $I_2$ mediante *Cuadratura Gaussiana* con $m$ nodos para $ m = \\{2,\\dots,50\\}$. Al igual que en el gráfico anterior, se observa mediante los puntos azules, los valores de las aproximaciones y cada punto rojo representa el valor exacto de la integral."
   ]
  },
  {
   "cell_type": "code",
   "execution_count": null,
   "id": "ed9698b6-47e5-41c1-a0ae-2151bbdd2496",
   "metadata": {},
   "outputs": [
    {
     "data": {
      "image/png": "[encoded data removed]",
      "text/plain": [
       "<Figure size 640x480 with 1 Axes>"
      ]
     },
     "metadata": {},
     "output_type": "display_data"
    }
   ],
   "source": [
    "#No modificar la celda, solo ejecutar.\n",
    "gaussianquad_vec = np.vectorize(gaussianquad)\n",
    "m_range = range(2,51)\n",
    "size_m = len(m_range)\n",
    "exact_int = (111./176.)*np.ones(size_m)\n",
    "\n",
    "f2 = lambda x: np.power(x,15) - 2.*np.power(x,10) + np.power(x,3) - x + 1.\n",
    "a,b = 0.,1.\n",
    "quad = gaussianquad_vec(f2,m_range,a,b)\n",
    "plt.plot(m_range,quad,'.b')\n",
    "plt.plot(m_range,exact_int,'.r')\n",
    "plt.xlabel(r\"$m$\")\n",
    "plt.ylabel(r\"$I_2$\")\n",
    "plt.grid()\n",
    "plt.show()"
   ]
  },
  {
   "cell_type": "markdown",
   "id": "09259be0-3c34-4420-bd2d-351eb1472918",
   "metadata": {},
   "source": [
    "Como usted puede observar, las aproximaciones en ambos casos se comportan de forma diferente. Esto puede llevar a una pista que permita a Indiana Jones y su asistente Short Round a completar la misión!"
   ]
  },
  {
   "cell_type": "markdown",
   "id": "96323b01-e506-45ee-898f-0cfa3de843fb",
   "metadata": {},
   "source": [
    "# Pregunta 1 (40 puntos)\n",
    "\n",
    "Como a la Anticitera se le debe indicar una estimación del grado de una función $f(x)$ en caso de que sea un polinomio, se le encomienda a usted confeccionar la función `check_poly(f,a,b,tol=1e-14)` que recibe una función $f(x)$, el intervalo $[a,b]$ y considerando una tolerancia `tol` determine si la función $f(x)$ es un polinomio y estime el grado $n$ que puede tener. La función debe retornar la estimación del grado $n$ y en caso de que la función no sea un polinomio, debe retornar $-1$. Considere que las funciones a entregar como input, pueden ser polinomios de grado $n \\leq 500$.\n",
    "\n",
    "*Hint 1: Short Round knows Gaussian Quadrature a lot!*\n",
    "\n",
    "*Hint 2: in this case relative error is useful than absolute one.*"
   ]
  },
  {
   "cell_type": "code",
   "execution_count": null,
   "id": "9b987ff7-0ea8-4ce2-9a88-859393d946c0",
   "metadata": {},
   "outputs": [],
   "source": [
    "def check_poly(f,a,b,tol=1e-14):\n",
    "    #acá va su codigo\n",
    "    #--------------------------------\n",
    "    m = range(2,501)\n",
    "    int_val = gaussianquad_vec(f,m,a,b)\n",
    "    int_val_diff = np.abs(np.diff(int_val))/np.abs(int_val[1:])\n",
    "    n = -1\n",
    "    if (np.where(int_val_diff < tol)[0]).size > 0:\n",
    "        i = (np.where(int_val_diff < tol)[0][0])\n",
    "        n = (2*(m[i]) - 1)\n",
    "    #--------------------------------\n",
    "    return n"
   ]
  },
  {
   "cell_type": "markdown",
   "id": "f3a3b569-3667-4aca-b60d-7cbce93b4449",
   "metadata": {},
   "source": [
    "# Pregunta 2\n",
    "\n",
    "## Pregunta 2.1 (20 puntos) \n",
    "\n",
    "Para las siguientes funciones $f_i(x)$ para $i = \\{1,\\dots,4\\}$ en el intervalo $[0,1]$ y utilizando el procedimiento de la pregunta anterior `check_poly`, verifique si la función es un polinomio o no, y en caso de serlo determine la estimación del grado.\n",
    "\n",
    "- $f_1(x) = \\sin\\left(\\dfrac{1}{x}\\right)$\n",
    "- $f_2(x) = x^{15} - 2\\,x^{10} + x^{3} - x + 1$\n",
    "- $f_3(x) = \\dfrac{\\exp(x)}{x + 1}$\n",
    "- $f_4(x) = x^5 - x^4 + 10\\,x^2 - 1$"
   ]
  },
  {
   "cell_type": "code",
   "execution_count": null,
   "id": "14ba6106-823d-4c27-9009-e49ac39f8f27",
   "metadata": {},
   "outputs": [
    {
     "data": {
      "text/plain": [
       "array([-1, 15, 17,  5])"
      ]
     },
     "execution_count": 15,
     "metadata": {},
     "output_type": "execute_result"
    }
   ],
   "source": [
    "#acá va su codigo\n",
    "#--------------------------------\n",
    "f1 = lambda x : np.sin(1./x)\n",
    "f2 = lambda x: np.power(x,15.) - 2.*np.power(x,10.) + np.power(x,3.) - x + 1.\n",
    "f3 = lambda x: np.exp(x)/(x+1.)\n",
    "f4 = lambda x: np.power(x,5.) - np.power(x,4.) + 10.*np.power(x,2.) - 1.\n",
    "\n",
    "check_poly_vec = np.vectorize(check_poly)\n",
    "fn= np.array([f1,f2,f3,f4])\n",
    "estimacion= (check_poly_vec(fn,0,1))\n",
    "(estimacion)\n",
    "#--------------------------------"
   ]
  },
  {
   "cell_type": "markdown",
   "id": "0a165f06-6aca-4ee5-b43e-ec2013ef43c2",
   "metadata": {},
   "source": [
    "## Pregunta 2.2 (10 puntos)\n",
    "\n",
    "Escriba sus conclusiones con respecto a los resultados obtenidos en la Pregunta 2.1"
   ]
  },
  {
   "cell_type": "markdown",
   "id": "556a7522-c7f5-4a9f-b04d-6e11e367ea68",
   "metadata": {},
   "source": [
    "**Utilice esta celda para indicar sus conclusiones**\n",
    "\n",
    "**------------------------------------------------------------------**\n",
    "\n",
    "Se observa que las funciones $f_{2}$ y $f_{4}$ retornan el valor exacto del grado del polinimio en cuestion, pero hay una diferencia entre las funciones $f_{1}$ y $f_{3}$, nos centraremos en la función $f_{1}$ y su resultado. Era de esperar que esto sucediese debido a que la cuadratura gaussiana no es el mejor método para aproximar funciones que no sean polinomiales debido al tipo de error. El caso $\"especial\"$ es lo que ocurre con la función $f_{3}$, debido a que puede ser representada mediante un polinimio (llamado serie de taylor) que tiene la forma\n",
    " \n",
    "$e^x = \\sum_{n=0}^{\\infty} \\frac{x^n}{n!}$\n",
    "\n",
    "Donde se ve claramente que es un polinomio, por ende debería calzar que en la iteración 9 del algoritmo alcance la tolerancia que utilizamos.\n",
    "\n",
    "**------------------------------------------------------------------**"
   ]
  },
  {
   "cell_type": "markdown",
   "id": "e79cd427-9777-45ec-b6af-b99731b81d96",
   "metadata": {},
   "source": [
    "# Pregunta 3 \n",
    "\n",
    "## Pregunta 3.1 (10 puntos)\n",
    "\n",
    "A continuación se muestra un gráfico del error relativo para las aproximaciones de la integral $I_1$ con $m$ nodos para $m = \\{2,\\dots,200\\}$. Explique lo que usted puede observar del gráfico en términos del error relativo en función de la cantidad de nodos que se utilizan para las aproximaciones. "
   ]
  },
  {
   "cell_type": "code",
   "execution_count": null,
   "id": "ad51d1ae-b3b0-4219-961c-fa37ebee0160",
   "metadata": {},
   "outputs": [
    {
     "data": {
      "image/png": "[encoded data removed]",
      "text/plain": [
       "<Figure size 640x480 with 1 Axes>"
      ]
     },
     "metadata": {},
     "output_type": "display_data"
    }
   ],
   "source": [
    "#No modificar la celda, solo ejecutar\n",
    "a,b = 0.,1.\n",
    "m_range = range(2,201)\n",
    "quad = gaussianquad_vec(f1,m_range,a,b)\n",
    "quad_diff = np.abs(np.diff(quad))/np.abs(quad[1:])\n",
    "plt.semilogy(m_range[:-1],quad_diff,'.b')\n",
    "plt.xlabel(r\"$m$\")\n",
    "plt.ylabel(r\"$\\text{Error}_{\\text{rel}}$\")\n",
    "plt.grid()\n",
    "plt.show()"
   ]
  },
  {
   "cell_type": "markdown",
   "id": "a9961bee-5cb8-4137-9783-0c1503833290",
   "metadata": {},
   "source": [
    "**Utilice esta celda para indicar su explicación**\n",
    "\n",
    "**------------------------------------------------------------------**\n",
    "\n",
    "Del gráfico podemos concluir que el error de la cuadratura gaussiana nos asegura que la función $f1$ no corresponde a un polinomio por el tipo de comportamiento que se presenta, no se nos presenta un patron claro del error como se podría esperar con funciones polinomicas, y vemos una alta variabilidad en el error para los valores de $m = \\{2,\\dots,200\\}$ (nodos).\n",
    "En base a lo anterior podemos concluir que ni aumentando el valor de nodos, podríamos conseguir una mayor precisión de aproximación y que el método de cuadrátura gaussiana no es el mas idoneo para aproximar el valor de una integral de este tipo.\n",
    "\n",
    "**------------------------------------------------------------------**"
   ]
  },
  {
   "cell_type": "markdown",
   "id": "92ecc6bd-e1bb-4663-8497-dfcd5151f7ff",
   "metadata": {},
   "source": [
    "## Pregunta 3.2 (10 puntos)\n",
    "\n",
    "A continuación se muestra un gráfico del error relativo para las aproximaciones de la integral $I_2$ con $m$ nodos para $m = \\{2,\\dots,200\\}$. Explique lo que usted puede observar del gráfico en términos del error relativo en función de la cantidad de nodos que se utilizan para las aproximaciones. "
   ]
  },
  {
   "cell_type": "code",
   "execution_count": null,
   "id": "acd2205b-902f-4177-b6c8-7452825b4416",
   "metadata": {},
   "outputs": [
    {
     "data": {
      "image/png": "[encoded data removed]",
      "text/plain": [
       "<Figure size 640x480 with 1 Axes>"
      ]
     },
     "metadata": {},
     "output_type": "display_data"
    }
   ],
   "source": [
    "#No modificar la celda, solo ejecutar\n",
    "a,b = 0.,1.\n",
    "m_range = range(2,201)\n",
    "quad = gaussianquad_vec(f2,m_range,a,b)\n",
    "quad_diff = np.abs(np.diff(quad))/np.abs(quad[1:])\n",
    "plt.semilogy(m_range[:-1],quad_diff,'.b')\n",
    "plt.xlabel(r\"$m$\")\n",
    "plt.ylabel(r\"$\\text{Error}_{\\text{rel}}$\")\n",
    "plt.grid()\n",
    "plt.show()"
   ]
  },
  {
   "cell_type": "markdown",
   "id": "c3054f77-ec2f-4067-9570-85b53f96d572",
   "metadata": {},
   "source": [
    "**Utilice esta celda para indicar su explicación**\n",
    "\n",
    "**------------------------------------------------------------------**\n",
    "\n",
    "En base al gráfico podemos observar que para valores pequeños de $m$ el error relativo es bastante grande (considerando lo que ocurre cuando aumentamos el $m$) pero a medida que crece el $m$ este mismo decrece abruptamente en $m = {10}$, con el aumento de los nodos observamos un peculiar fenomeno (normal considerando que la función integrada es un polinomio), el error relativo oscila en 1 decimal de precisión por lo que podemos decir que alcanza una buena precisión. En base a este gráfico se sugiere que no es necesario utilizar valores de $m$ muy altos ya que en realidad no mejoraría significativamente la precisión de la integración.\n",
    "\n",
    "**------------------------------------------------------------------**"
   ]
  },
  {
   "cell_type": "markdown",
   "id": "6d76230b-0337-46e8-80c9-1d815325b66d",
   "metadata": {},
   "source": [
    "**¡Ya ha llegado al final de la tarea 4! Ahora debe enviarla antes de las 14:00 hrs. del sábado 29 de junio!**"
   ]
  }
 ],
 "metadata": {
  "kernelspec": {
   "display_name": "Python 3 (ipykernel)",
   "language": "python",
   "name": "python3"
  },
  "language_info": {
   "codemirror_mode": {
    "name": "ipython",
    "version": 3
   },
   "file_extension": ".py",
   "mimetype": "text/x-python",
   "name": "python",
   "nbconvert_exporter": "python",
   "pygments_lexer": "ipython3",
   "version": "3.11.9"
  }
 },
 "nbformat": 4,
 "nbformat_minor": 5
}
