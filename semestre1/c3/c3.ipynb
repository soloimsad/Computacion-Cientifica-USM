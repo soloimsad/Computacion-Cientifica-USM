{
 "cells": [
  {
   "cell_type": "code",
   "execution_count": 8,
   "metadata": {},
   "outputs": [
    {
     "data": {
      "text/plain": [
       "1.5478617653234457"
      ]
     },
     "execution_count": 8,
     "metadata": {},
     "output_type": "execute_result"
    }
   ],
   "source": [
    "import numpy as np\n",
    "def simp(f,m,a,b):\n",
    "    f1= np.vectorize(f)\n",
    "    x = np.linspace(a,b,m+1)\n",
    "    h=(b-a)/m\n",
    "    w=np.full(m+1,h/3)\n",
    "    w[1:-1:2]*=4\n",
    "    w[2:-1:2]*=2\n",
    "    return np.dot(f(x),w)\n",
    "\n",
    "f2 = lambda x:np.sqrt(1+9*np.power(x,4))\n",
    "b = simp(f2,8,0,1)\n",
    "b"
   ]
  },
  {
   "cell_type": "code",
   "execution_count": 14,
   "metadata": {},
   "outputs": [
    {
     "data": {
      "text/plain": [
       "(1, 0.99825783724352, 0.0017421627564799813)"
      ]
     },
     "execution_count": 14,
     "metadata": {},
     "output_type": "execute_result"
    }
   ],
   "source": [
    "import numpy as np\n",
    "\n",
    "def gauss(f, m, a, b):\n",
    "    x, w = gaussin(m)\n",
    "    x_transformed = 0.5 * (b - a) * (x + 1) + a\n",
    "    w_transformed = 0.5 * (b - a) * w\n",
    "    \n",
    "    return np.dot(w_transformed, f(x_transformed))\n",
    "\n",
    "def gaussin(m):\n",
    "    if m == 1:\n",
    "        return np.array([0.0]), np.array([2.0])\n",
    "    beta = 0.5 / np.sqrt(1. - (2. * np.arange(1., m))**(-2))\n",
    "    T = np.diag(beta, 1) + np.diag(beta, -1)\n",
    "    D, V = np.linalg.eigh(T)\n",
    "    x = D\n",
    "    w = 2 * V[0, :]**2\n",
    "    return x, w\n",
    "\n",
    "def f(x):\n",
    "    return x * np.exp(x)\n",
    "\n",
    "m = 2\n",
    "a = 0\n",
    "b = 1\n",
    "\n",
    "integral_approx = gauss(f, m, a, b)\n",
    "integral_exact = 1  \n",
    "error_absoluto = abs(integral_exact - integral_approx)\n",
    "integral_exact,integral_approx,error_absoluto\n"
   ]
  }
 ],
 "metadata": {
  "kernelspec": {
   "display_name": "Python 3",
   "language": "python",
   "name": "python3"
  },
  "language_info": {
   "codemirror_mode": {
    "name": "ipython",
    "version": 3
   },
   "file_extension": ".py",
   "mimetype": "text/x-python",
   "name": "python",
   "nbconvert_exporter": "python",
   "pygments_lexer": "ipython3",
   "version": "3.11.9"
  }
 },
 "nbformat": 4,
 "nbformat_minor": 2
}
