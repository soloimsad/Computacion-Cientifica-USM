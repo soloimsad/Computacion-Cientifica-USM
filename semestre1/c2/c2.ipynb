{
 "cells": [
  {
   "cell_type": "code",
   "execution_count": 3,
   "metadata": {},
   "outputs": [
    {
     "ename": "ModuleNotFoundError",
     "evalue": "No module named 'numpy'",
     "output_type": "error",
     "traceback": [
      "\u001b[1;31m---------------------------------------------------------------------------\u001b[0m",
      "\u001b[1;31mModuleNotFoundError\u001b[0m                       Traceback (most recent call last)",
      "Cell \u001b[1;32mIn[3], line 1\u001b[0m\n\u001b[1;32m----> 1\u001b[0m \u001b[38;5;28;01mimport\u001b[39;00m \u001b[38;5;21;01mnumpy\u001b[39;00m \u001b[38;5;28;01mas\u001b[39;00m \u001b[38;5;21;01mnp\u001b[39;00m\n\u001b[0;32m      2\u001b[0m \u001b[38;5;28;01mimport\u001b[39;00m \u001b[38;5;21;01mmatplotlib\u001b[39;00m\u001b[38;5;21;01m.\u001b[39;00m\u001b[38;5;21;01mpyplot\u001b[39;00m \u001b[38;5;28;01mas\u001b[39;00m \u001b[38;5;21;01mplt\u001b[39;00m\n",
      "\u001b[1;31mModuleNotFoundError\u001b[0m: No module named 'numpy'"
     ]
    }
   ],
   "source": [
    "import numpy as np\n",
    "import matplotlib.pyplot as plt"
   ]
  },
  {
   "cell_type": "markdown",
   "metadata": {},
   "source": [
    "Construya una interpolacion polinomial que interpole log(y) para el rango indicado anteriormente sin que se vea afectado\n",
    "por el fenomeno de Runge. El algoritmo debe retornar una funcion “callable” y debe tener la siguiente firma:\n"
   ]
  },
  {
   "cell_type": "code",
   "execution_count": null,
   "metadata": {},
   "outputs": [],
   "source": [
    "f = lambda x: np.exp(x)\n",
    "\n",
    "def Lagrange(x, y):\n",
    "    n = len(x)\n",
    "   \n",
    "    l = np.array([y[i]/np.prod(x[i] - np.delete(x,i)) for i in range(n)])\n",
    "    p = lambda xp: np.dot(l,[np.prod(xp - np.delete(x,j)) for j in range(n)])    \n",
    "    return np.vectorize(p)\n",
    "\n",
    "\n",
    "\n",
    "a=1e-1\n",
    "b=1\n",
    "n=10\n",
    "\n",
    "xp = np.linspace(a,b,n)\n",
    "yp = f(xp)\n",
    "pLag = Lagrange(xp,yp)\n",
    "\n",
    "\n",
    "\n"
   ]
  },
  {
   "cell_type": "code",
   "execution_count": null,
   "metadata": {},
   "outputs": [
    {
     "data": {
      "image/png": "[encoded data removed]",
      "text/plain": [
       "<Figure size 640x480 with 1 Axes>"
      ]
     },
     "metadata": {},
     "output_type": "display_data"
    }
   ],
   "source": [
    "plt.scatter(xp,yp)\n",
    "plt.show()"
   ]
  },
  {
   "cell_type": "code",
   "execution_count": null,
   "metadata": {},
   "outputs": [],
   "source": [
    "def Chebyshev_points(xmin,xmax,n):\n",
    "    ns = np.arange(1,n+1)\n",
    "    x = np.cos((2*ns-1)*np.pi/(2*n))\n",
    "    return (xmin+xmax)/2 + (xmax-xmin)*x/2\n",
    "\n",
    "def baricenter(a,b,d,n,alpha,m):\n",
    "    f = lambda x: -alpha*np.sen(x)*np.cos(alpha*np.cos(x)) #derivada\n",
    "    \n",
    "    xp = np.arange(a,b,d+1)\n",
    "    x_a=np.empty([0])\n",
    "    y_a=np.empty([0])\n",
    "    for i in range(d):\n",
    "        mp= np.linspace(xp[i],xp[i+1], m)\n",
    "        x_p = Chebyshev_points(xp[i],xp[i+1], m)\n",
    "        "
   ]
  },
  {
   "cell_type": "markdown",
   "metadata": {},
   "source": [
    "*A)* Implemente la función  *polynomialInterpolation_f()*. Se basa en una interpolación baricéntrica _tradicional_ de la función _f(x)_, es decir, evalua los _n_ puntos de Chebyshev y contruir el interpolador polinomial utilizando la interpolación baricentrica, se sugiere usar *BaricentricInterpolator* de Scipy.\n"
   ]
  },
  {
   "cell_type": "code",
   "execution_count": 4,
   "metadata": {},
   "outputs": [
    {
     "ename": "ModuleNotFoundError",
     "evalue": "No module named 'scipy'",
     "output_type": "error",
     "traceback": [
      "\u001b[1;31m---------------------------------------------------------------------------\u001b[0m",
      "\u001b[1;31mModuleNotFoundError\u001b[0m                       Traceback (most recent call last)",
      "Cell \u001b[1;32mIn[4], line 1\u001b[0m\n\u001b[1;32m----> 1\u001b[0m \u001b[38;5;28;01mimport\u001b[39;00m \u001b[38;5;21;01mscipy\u001b[39;00m\n\u001b[0;32m      2\u001b[0m \u001b[38;5;28;01mimport\u001b[39;00m \u001b[38;5;21;01mnumpy\u001b[39;00m \u001b[38;5;28;01mas\u001b[39;00m \u001b[38;5;21;01mnp\u001b[39;00m\n\u001b[0;32m      3\u001b[0m \u001b[38;5;28;01mfrom\u001b[39;00m \u001b[38;5;21;01mscipy\u001b[39;00m\u001b[38;5;21;01m.\u001b[39;00m\u001b[38;5;21;01minterpolate\u001b[39;00m \u001b[38;5;28;01mimport\u001b[39;00m BarycentricInterpolator\n",
      "\u001b[1;31mModuleNotFoundError\u001b[0m: No module named 'scipy'"
     ]
    }
   ],
   "source": [
    "import scipy\n",
    "import numpy as np\n",
    "from scipy.interpolate import BarycentricInterpolator\n",
    "\n",
    "f = lambda x,alpha: np.sin(alpha * np.cos(x))\n",
    "\n",
    "def polynomialInterpolation_f(f,n,a,b,alpha):\n",
    "    xp= np.arange(a,b,n+1)\n",
    "    x_a= np.array([])\n",
    "    y_a= np.array([])\n",
    "    for i in range(n):\n",
    "        \n",
    "        x_che = Chebyshev_points(xp[i],xp[i+1])\n",
    "        y_che = f(x_che,alpha)\n",
    "        inter = BarycentricInterpolator(x_che,y_che)\n",
    "    \n",
    "    return inter"
   ]
  }
 ],
 "metadata": {
  "kernelspec": {
   "display_name": "Python 3",
   "language": "python",
   "name": "python3"
  },
  "language_info": {
   "codemirror_mode": {
    "name": "ipython",
    "version": 3
   },
   "file_extension": ".py",
   "mimetype": "text/x-python",
   "name": "python",
   "nbconvert_exporter": "python",
   "pygments_lexer": "ipython3",
   "version": "3.11.9"
  }
 },
 "nbformat": 4,
 "nbformat_minor": 2
}
