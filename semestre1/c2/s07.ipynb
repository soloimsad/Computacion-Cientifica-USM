{
 "cells": [
  {
   "cell_type": "code",
   "execution_count": 1,
   "id": "9149e7cf-514e-4a44-9c94-24f35ecd64a8",
   "metadata": {},
   "outputs": [],
   "source": [
    "import numpy as np\n",
    "#import scipy as sp # type: ignore\n",
    "import matplotlib.pyplot as plt"
   ]
  },
  {
   "cell_type": "markdown",
   "id": "2b25ba2f-e0c9-4420-a692-d76bfde5f26b",
   "metadata": {},
   "source": [
    "**Preg 1.** Considere el siguiente sistema de ecuaciones lineales de dimensión $2\\,n \\times 2\\,n$:\n",
    "\n",
    "$$\n",
    "\\begin{equation}\n",
    "    \\begin{pmatrix}\n",
    "    A & \\alpha\\,B \\\\\n",
    "    C & D\n",
    "    \\end{pmatrix}\n",
    "    \\begin{pmatrix}\n",
    "    \\mathbf{x}_1 \\\\\n",
    "    \\mathbf{x}_2\n",
    "    \\end{pmatrix}\n",
    "    =\n",
    "    \\begin{pmatrix}\n",
    "    \\mathbf{b}_1 \\\\\n",
    "    \\mathbf{b}_2\n",
    "    \\end{pmatrix},\n",
    "    \\label{eq:c1_2021_q1_linear_system}\n",
    "\\end{equation}\n",
    "$$\n",
    "\n",
    "del cual sabemos que es posible obtener las factorizaciones LU de cada una de las sub-matrices $A$, $B$, $C$, y $D$, las cuales son:\n",
    "\n",
    "$$\n",
    "\\begin{align*}\n",
    "    A&=L_A\\,U_A,\\\\\n",
    "    B&=L_A\\,U_B,\\\\\n",
    "    C&=L_C\\,U_A,\\\\\n",
    "    D&=L_D\\,U_B.\n",
    "\\end{align*}\n",
    "$$\n",
    "\n",
    "Además sabemos que $\\alpha \\neq 1$ y que las sub-matrices tienen dimensión de $n\\times n$."
   ]
  },
  {
   "cell_type": "code",
   "execution_count": 2,
   "id": "789c1bc3-fa1f-4945-86a9-604bd84d59cb",
   "metadata": {},
   "outputs": [],
   "source": [
    "N = 4\n",
    "#matrices aleatorias L_A,L_C,L_D, U_A y U_B para realizar los cálculos.\n",
    "RA = -1. + 2.*np.random.rand(N,N)\n",
    "RB = -1. + 3.*np.random.rand(N,N)\n",
    "RC = -1. + 4.*np.random.rand(N,N)\n",
    "RD = -1. + 5.*np.random.rand(N,N)\n",
    "LA = np.tril(RA,k=-1) + np.eye(N)\n",
    "LC = np.tril(RC,k=-1) + np.eye(N)\n",
    "LD = np.tril(RD,k=-1) + np.eye(N)\n",
    "UA = np.triu(RA)\n",
    "UB = np.triu(RB)\n",
    "A = LA@UA\n",
    "B = LA@UB\n",
    "C = LC@UA\n",
    "D = LD@UB\n",
    "b1,b2 = np.random.rand(N,1),np.random.rand(N,1)"
   ]
  },
  {
   "cell_type": "code",
   "execution_count": 3,
   "id": "fc31aa95-8532-4b00-8677-8bf2f6de1138",
   "metadata": {},
   "outputs": [],
   "source": [
    "#sistema de ecuaciones de 2N x 2N: Wx = b para realizar los cálculos.\n",
    "W = np.zeros((2*N,2*N))\n",
    "b = np.concatenate((b1,b2),axis=0)\n",
    "alpha = 10.\n",
    "AB = np.concatenate((A,alpha*B),axis = 1)\n",
    "CD = np.concatenate((C,D),axis = 1)\n",
    "W = np.concatenate((AB,CD),axis = 0)"
   ]
  },
  {
   "cell_type": "markdown",
   "id": "c0eae15b-96a3-4048-91a0-2be7bf34c893",
   "metadata": {},
   "source": [
    "a) Determine el número de operaciones elementales que se necesitan realizar en función de $n$ para resolver el sistema de ecuaciones lineales definido si se utilizara PALU. Es decir, resolver el sistema de ecuaciones lineales de dimensión $2\\,n\\times 2\\,n$.\n",
    "\n",
    "**Sol:** Resolver un sistema de ecuaciones lineales de $n \\times n$ con la factorización PALU implica $2n^3/3 + 2n^2$ operaciones elementales. En este caso, el sistema de ecuaciones es de $2n \\times 2n$, por lo tanto el número de operaciones elementales es $16n^3/3 + 8n^2$. Además se debe aplicar forward y backward substitution para un sistema de $2n \\times 2n$, lo que implica $(2n)^2$ operaciones elementales en total, es decir, $4n^2$. Finalmente, en total, tenemos $16n^3/3 + 12n^2$."
   ]
  },
  {
   "cell_type": "markdown",
   "id": "5da9e21a-3170-4fa6-ae6f-eddf8613a2f9",
   "metadata": {},
   "source": [
    "b) Proponga un algoritmo que obtenga $\\mathbf{x}_1$ y $\\mathbf{x}_2$ utilizando las factorizaciones LU de las matrices $A$, $B$, $C$, y $D$. *Hint: I suggest you to think how you can handle this problem if all the sub-matrices are the identity matrix, how would you deal with this?*"
   ]
  },
  {
   "cell_type": "markdown",
   "id": "b6ef08fe-5ccc-4479-8274-d060627982e7",
   "metadata": {},
   "source": [
    "**Sol:** Tenemos el siguiente sistema:\n",
    "\n",
    "$$\n",
    "    \\begin{pmatrix}\n",
    "    A & \\alpha\\,B \\\\\n",
    "    C & D\n",
    "    \\end{pmatrix}\n",
    "    \\begin{pmatrix}\n",
    "    \\mathbf{x}_1 \\\\\n",
    "    \\mathbf{x}_2\n",
    "    \\end{pmatrix}\n",
    "    =\n",
    "    \\begin{pmatrix}\n",
    "    \\mathbf{b}_1 \\\\\n",
    "    \\mathbf{b}_2\n",
    "    \\end{pmatrix},\n",
    "$$\n",
    "\n",
    "Supongamos que $A,B,C$ y $D$ son matrices identidades de $n \\times n$, el sistema entonces queda:\n",
    "\n",
    "$$\n",
    "    \\begin{pmatrix}\n",
    "    {\\color{blue}1}      & 0      & \\cdots & \\cdots & 0      & {\\color{blue}\\alpha} & 0      & \\cdots & \\cdots & 0      \\\\\n",
    "    0      & 1      & \\ddots &        & \\vdots & 0      & \\alpha & \\ddots &        & \\vdots \\\\\n",
    "    \\vdots & \\ddots & \\ddots & \\ddots & 0      & \\vdots & \\ddots & \\ddots & \\ddots & 0      \\\\\n",
    "    \\vdots &        & \\ddots & 1      & 0      & \\vdots &        & \\ddots & \\alpha & 0      \\\\\n",
    "    0      & \\cdots & \\cdots & 0      & 1      & 0      & \\cdots & \\cdots & 0      & \\alpha \\\\\n",
    "    {\\color{blue}1}      & 0      & \\cdots & \\cdots & 0      & {\\color{blue}1}      & 0      & \\cdots & \\cdots & 0      \\\\\n",
    "    0      & 1      & \\ddots &        & \\vdots & 0      & 1      & \\ddots &        & \\vdots \\\\\n",
    "    \\vdots & \\ddots & \\ddots & \\ddots & 0      & \\vdots & \\ddots & \\ddots & \\ddots & 0      \\\\\n",
    "    \\vdots &        & \\ddots & 1      & 0      & \\vdots &        & \\ddots & 1      & 0      \\\\\n",
    "    0      & \\cdots & \\cdots & 0      & 1      & 0      & \\cdots & \\cdots & 0      & 1      \n",
    "    \\end{pmatrix}\n",
    "    \\begin{pmatrix}\n",
    "    {\\color{blue}\\mathbf{x}_{11}} \\\\\n",
    "    \\mathbf{x}_{12} \\\\\n",
    "    \\vdots \\\\\n",
    "    \\mathbf{x}_{1,n-1} \\\\\n",
    "    \\mathbf{x}_{1,n} \\\\\n",
    "    {\\color{blue}\\mathbf{x}_{21}}\\\\\n",
    "    \\mathbf{x}_{22} \\\\\n",
    "    \\vdots \\\\\n",
    "    \\mathbf{x}_{2,n-1} \\\\\n",
    "    \\mathbf{x}_{2,n} \\\\\n",
    "    \\end{pmatrix}\n",
    "    =\n",
    "    \\begin{pmatrix}\n",
    "    {\\color{blue}\\mathbf{b}_{11}}\\\\\n",
    "    \\mathbf{b}_{12} \\\\\n",
    "    \\vdots \\\\\n",
    "    \\mathbf{b}_{1,n-1} \\\\\n",
    "    \\mathbf{b}_{1,n} \\\\\n",
    "    {\\color{blue}\\mathbf{b}_{21}}\\\\\n",
    "    \\mathbf{b}_{22} \\\\\n",
    "    \\vdots \\\\\n",
    "    \\mathbf{b}_{2,n-1} \\\\\n",
    "    \\mathbf{b}_{2,n} \\\\\n",
    "    \\end{pmatrix},\n",
    "$$\n",
    "\n",
    "Podemos notar que considerando la primera y $n+1$-ésima fila del sistema (coeficientes en ${\\color{blue}\\text{azul}}$), nos queda lo siguiente:\n",
    "\n",
    "$$\n",
    "    \\begin{pmatrix}\n",
    "    1 & \\alpha\\\\\n",
    "    1 & 1\n",
    "    \\end{pmatrix}\n",
    "    \\begin{pmatrix}\n",
    "        \\mathbf{x}_{11} \\\\\n",
    "        \\mathbf{x}_{21} \\\\\n",
    "    \\end{pmatrix}\n",
    "    =\n",
    "    \\begin{pmatrix}\n",
    "        \\mathbf{b}_{11} \\\\\n",
    "        \\mathbf{b}_{21} \\\\\n",
    "    \\end{pmatrix}\n",
    "$$\n",
    "\n",
    "Se puede observar que este sistema de $2 \\times 2$ se debe resolver $n$ veces para obtener los valores de los vectores $\\mathbf{x}_1$ y $\\mathbf{x}_2$. "
   ]
  },
  {
   "cell_type": "markdown",
   "id": "8da05972-565b-473f-bf22-0032631fefb8",
   "metadata": {},
   "source": [
    "¿Qué sucede ahora con las factorizaciones $LU$? El sistema queda de la siguiente forma:\n",
    "\n",
    "$$\n",
    "    \\begin{align}\n",
    "    A\\,\\mathbf{x}_1 + \\alpha\\,B\\,\\mathbf{x}_2 &= \\mathbf{b}_1 \\\\\n",
    "    C\\,\\mathbf{x}_1 + D\\,\\mathbf{x}_2 &= \\mathbf{b}_2\n",
    "    \\end{align}\n",
    "$$\n",
    "$$\n",
    "    \\begin{align}\n",
    "    L_A\\,U_A\\,\\mathbf{x}_1 + \\alpha\\,L_A\\,U_B\\,\\mathbf{x}_2 &= \\mathbf{b}_1 \\\\\n",
    "    L_C\\,U_A\\,\\mathbf{x}_1 + L_D\\,U_B\\,\\mathbf{x}_2 &= \\mathbf{b}_2\n",
    "    \\end{align}\n",
    "$$\n",
    "\n",
    "Observe que podemos definir $\\mathbf{y}_1 = U_A\\,\\mathbf{x}_1$ e $\\mathbf{y}_2 = U_B\\,\\mathbf{x}_2$, entonces el sistema queda:\n",
    "\n",
    "$$\n",
    "    \\begin{align}\n",
    "    L_A\\,\\mathbf{y}_1 + \\alpha\\,L_A\\,\\mathbf{y}_2 &= \\mathbf{b}_1 \\\\\n",
    "    L_C\\,\\mathbf{y}_1 + L_D\\,\\mathbf{y}_2 &= \\mathbf{b}_2\n",
    "    \\end{align}\n",
    "$$\n",
    "\n",
    "Luego, hemos logrado una forma similar que con las matrices identidades. Solamente se debe resolver $n$ sistemas de $2 \\times 2$ para obtener los valores de $\\mathbf{y}_1$ e $\\mathbf{y}_2$. Luego simplemente se aplica backward-substitution para despejar $\\mathbf{x}_1$ y $\\mathbf{x}_2$ para los sistemas $\\mathbf{y}_1 = U_A\\,\\mathbf{x}_1$ e $\\mathbf{y}_2 = U_B\\,\\mathbf{x}_2$.\n",
    "\n",
    "Se invita al estudiante a construir el programa que permita obtener los vectores $\\mathbf{x}_1$ y $\\mathbf{x}_2$ utilizando las definiciones anteriores para matrices aleatorias."
   ]
  },
  {
   "cell_type": "markdown",
   "id": "d677136f-1796-4fe8-bda6-33b34850ae55",
   "metadata": {},
   "source": [
    "c) Determine el número de operaciones elementales del algoritmo propuesto incluyendo las operaciones elementales requeridas para obtener las factorizaciones LU de las sub-matrices $A$, $B$, $C$, y $D$.\n",
    "\n",
    "**Sol:** Obtener las $4$ factorizaciones implica $4(2n^3/3 + 2n^2) = 8n^3/3 + 8n^2$ operaciones elementales. Resolver cada sistema de $2 \\times 2$ son $4$ operaciones elementales, en total entonces es $4n$ resolver todos los sistemas. Finalmente hay que realizar backward-substitution para los sistemas $\\mathbf{y}_1 = U_A\\,\\mathbf{x}_1$ e $\\mathbf{y}_2 = U_B\\,\\mathbf{x}_2$ lo que implica $2n^2$ operaciones elementales. En total, la cantidad de operaciones elementales es $8n^3/3 + 8n^2 + 4n + 2n^2 = 8n^3/3 + 10n^2 + 4n$."
   ]
  },
  {
   "cell_type": "markdown",
   "id": "d3350029-6bd9-4c82-b31e-768c29c511ff",
   "metadata": {},
   "source": [
    "d) ¿Qué ocurre si $\\alpha=1$ con su propuesta de algoritmo?\n",
    "\n",
    "**Sol:** El determinante de la matriz del sistema $2 \\times 2$ es $0$, por lo tanto no hay solución."
   ]
  },
  {
   "cell_type": "markdown",
   "id": "28d00d5e-cfae-4110-9eaa-6d22c1817a45",
   "metadata": {},
   "source": [
    "e) ¿Cuánto más rápido es su propuesta de algoritmo que haber resuelto el problema original con PALU?\n",
    "\n",
    "**Sol:** Se invita al estudiante a que calcule la razón entre la cantidad de operaciones elementales entre la propuesta del algoritmo y el problema original con PALU."
   ]
  },
  {
   "cell_type": "code",
   "execution_count": null,
   "id": "7608ccfe",
   "metadata": {},
   "outputs": [],
   "source": []
  }
 ],
 "metadata": {
  "kernelspec": {
   "display_name": "Python 3 (ipykernel)",
   "language": "python",
   "name": "python3"
  },
  "language_info": {
   "codemirror_mode": {
    "name": "ipython",
    "version": 3
   },
   "file_extension": ".py",
   "mimetype": "text/x-python",
   "name": "python",
   "nbconvert_exporter": "python",
   "pygments_lexer": "ipython3",
   "version": "3.11.9"
  }
 },
 "nbformat": 4,
 "nbformat_minor": 5
}
