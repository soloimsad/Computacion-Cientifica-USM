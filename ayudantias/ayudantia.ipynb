{
 "cells": [
  {
   "cell_type": "markdown",
   "metadata": {},
   "source": [
    "**ENCONTRAR SOLUCION AL SIGUIENTE SISTEMA DE ECUACIONES**\n",
    "\n",
    "$x + y = 1$\n",
    "\n",
    "$ax + y = b$"
   ]
  }
 ],
 "metadata": {
  "language_info": {
   "name": "python"
  }
 },
 "nbformat": 4,
 "nbformat_minor": 2
}
